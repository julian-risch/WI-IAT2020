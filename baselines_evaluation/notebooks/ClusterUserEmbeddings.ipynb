{
 "cells": [
  {
   "cell_type": "code",
   "execution_count": null,
   "metadata": {},
   "outputs": [],
   "source": [
    "import pandas as pd\n",
    "from gensim.models import KeyedVectors\n",
    "import numpy as np\n",
    "from sklearn.datasets import load_iris, load_digits\n",
    "from sklearn.model_selection import train_test_split\n",
    "import matplotlib.pyplot as plt\n",
    "import pandas as pd\n",
    "import seaborn as sns\n",
    "import random\n",
    "%matplotlib inline"
   ]
  },
  {
   "cell_type": "code",
   "execution_count": null,
   "metadata": {},
   "outputs": [],
   "source": [
    "import umap"
   ]
  },
  {
   "cell_type": "code",
   "execution_count": null,
   "metadata": {},
   "outputs": [],
   "source": [
    "from sklearn import cluster"
   ]
  },
  {
   "cell_type": "code",
   "execution_count": null,
   "metadata": {},
   "outputs": [],
   "source": [
    "most_commented_path = ''\n",
    "embeddings_path = ''\n",
    "validation_authors_path = ''\n",
    "user_categories_path = ''"
   ]
  },
  {
   "cell_type": "code",
   "execution_count": null,
   "metadata": {},
   "outputs": [],
   "source": [
    "def save_to_pdf(filename, ax):\n",
    "    fig = ax.get_figure()\n",
    "    fig.savefig(filename, bbox_inches='tight')"
   ]
  },
  {
   "cell_type": "code",
   "execution_count": null,
   "metadata": {},
   "outputs": [],
   "source": [
    "df = pd.read_csv(most_commented_path)"
   ]
  },
  {
   "cell_type": "code",
   "execution_count": null,
   "metadata": {},
   "outputs": [],
   "source": [
    "df['cc'] = pd.Categorical(df.category)"
   ]
  },
  {
   "cell_type": "code",
   "execution_count": null,
   "metadata": {},
   "outputs": [],
   "source": [
    "df['code'] = df.cc.cat.codes"
   ]
  },
  {
   "cell_type": "code",
   "execution_count": null,
   "metadata": {},
   "outputs": [],
   "source": [
    "vectors = KeyedVectors.load_word2vec_format(embeddings_path)"
   ]
  },
  {
   "cell_type": "code",
   "execution_count": null,
   "metadata": {},
   "outputs": [],
   "source": [
    "num_classes = df['code'].nunique()"
   ]
  },
  {
   "cell_type": "code",
   "execution_count": null,
   "metadata": {},
   "outputs": [],
   "source": [
    "num_classes"
   ]
  },
  {
   "cell_type": "code",
   "execution_count": null,
   "metadata": {},
   "outputs": [],
   "source": [
    "reducer = umap.UMAP(n_neighbors=5)"
   ]
  },
  {
   "cell_type": "code",
   "execution_count": null,
   "metadata": {},
   "outputs": [],
   "source": [
    "validation_authors = list(np.load(validation_authors_path))"
   ]
  },
  {
   "cell_type": "code",
   "execution_count": null,
   "metadata": {},
   "outputs": [],
   "source": [
    "df_user_categories = pd.read_csv(user_categories_path)"
   ]
  },
  {
   "cell_type": "code",
   "execution_count": null,
   "metadata": {},
   "outputs": [],
   "source": [
    "most_categories = df_user_categories.groupby('category')['author_id'].nunique().reset_index()\n",
    "most_categories = most_categories.sort_values(by='author_id', ascending=False).head(10)['category'].tolist()\n",
    "most_categories = set(most_categories)"
   ]
  },
  {
   "cell_type": "code",
   "execution_count": null,
   "metadata": {},
   "outputs": [],
   "source": [
    "def get_relevant_categories(x):\n",
    "    if x in most_categories:\n",
    "        return x\n",
    "    else:\n",
    "        return 'other'"
   ]
  },
  {
   "cell_type": "code",
   "execution_count": null,
   "metadata": {},
   "outputs": [],
   "source": [
    "df_user_categories['category'] = df_user_categories.category.apply(get_relevant_categories)"
   ]
  },
  {
   "cell_type": "code",
   "execution_count": null,
   "metadata": {},
   "outputs": [],
   "source": [
    "df_user_categories = df_user_categories[df_user_categories['category'] != 'other']"
   ]
  },
  {
   "cell_type": "code",
   "execution_count": null,
   "metadata": {},
   "outputs": [],
   "source": [
    "df_user_categories['int_cat'], label = pd.factorize(df_user_categories.category)"
   ]
  },
  {
   "cell_type": "code",
   "execution_count": null,
   "metadata": {},
   "outputs": [],
   "source": [
    "df_user_categories.index = df_user_categories.author_id"
   ]
  },
  {
   "cell_type": "code",
   "execution_count": null,
   "metadata": {},
   "outputs": [],
   "source": []
  },
  {
   "cell_type": "code",
   "execution_count": null,
   "metadata": {},
   "outputs": [],
   "source": [
    "df_user_categories['int_cat'].nunique()"
   ]
  },
  {
   "cell_type": "code",
   "execution_count": null,
   "metadata": {},
   "outputs": [],
   "source": [
    "user_cat_dict = df_user_categories['int_cat'].to_dict()\n"
   ]
  },
  {
   "cell_type": "code",
   "execution_count": null,
   "metadata": {},
   "outputs": [],
   "source": [
    "catgs = df_user_categories[['category', 'int_cat']].drop_duplicates()\n",
    "catgs.index = catgs.int_cat\n",
    "catgs_dict = catgs.category.to_dict()"
   ]
  },
  {
   "cell_type": "code",
   "execution_count": null,
   "metadata": {},
   "outputs": [],
   "source": [
    "validation_authors = np.array([author for author in validation_authors if author != 737638])"
   ]
  },
  {
   "cell_type": "code",
   "execution_count": null,
   "metadata": {},
   "outputs": [],
   "source": [
    "validation_authors = list(filter(lambda x: x in user_cat_dict, validation_authors))"
   ]
  },
  {
   "cell_type": "code",
   "execution_count": null,
   "metadata": {},
   "outputs": [],
   "source": [
    "vector_matrix = np.zeros((len(validation_authors), vectors.vector_size))"
   ]
  },
  {
   "cell_type": "code",
   "execution_count": null,
   "metadata": {},
   "outputs": [],
   "source": [
    "for index, author in enumerate(validation_authors):\n",
    "    vector_matrix[index][:] = vectors.get_vector(str(author))"
   ]
  },
  {
   "cell_type": "code",
   "execution_count": null,
   "metadata": {},
   "outputs": [],
   "source": [
    "clusterer = cluster.KMeans(n_clusters=10, )"
   ]
  },
  {
   "cell_type": "code",
   "execution_count": null,
   "metadata": {},
   "outputs": [],
   "source": [
    "preds = clusterer.fit_predict(vector_matrix)"
   ]
  },
  {
   "cell_type": "code",
   "execution_count": null,
   "metadata": {},
   "outputs": [],
   "source": [
    "embedding = reducer.fit_transform(vector_matrix)"
   ]
  },
  {
   "cell_type": "code",
   "execution_count": null,
   "metadata": {},
   "outputs": [],
   "source": [
    "len(preds)"
   ]
  },
  {
   "cell_type": "code",
   "execution_count": null,
   "metadata": {},
   "outputs": [],
   "source": [
    "color_palette = sns.color_palette(\"Accent\", len(np.unique(df_user_categories.int_cat)))\n",
    "color = [color_palette[user_cat_dict[author]] for author in validation_authors]\n",
    "vis_df = pd.DataFrame()\n",
    "vis_df['x'] = embedding[:, 0]\n",
    "vis_df['y'] = embedding[:, 1]\n",
    "vis_df['category'] =[catgs_dict[user_cat_dict[author]] for author in validation_authors]\n",
    "vis_df['color'] = color\n",
    "#vis_df = vis_df[vis_df.category != 'else']"
   ]
  },
  {
   "cell_type": "code",
   "execution_count": null,
   "metadata": {},
   "outputs": [],
   "source": [
    "sns.set()\n",
    "sns.set_context('paper', font_scale=1.8)\n",
    "fig, ax = plt.subplots(1, figsize=(10, 10))\n",
    "ax = sns.scatterplot(x=\"x\", y=\"y\", hue='category',palette='Paired', marker='+', data=vis_df, alpha=0.8, legend=\"full\", linewidth=1)\n",
    "plt.gca().set_aspect('equal', 'datalim')\n",
    "ax.get_xaxis().set_visible(False)\n",
    "ax.get_yaxis().set_visible(False)\n",
    "legend = plt.legend(bbox_to_anchor=(1.05, 1), loc=2, borderaxespad=0., frameon=False, markerscale=4.2)\n",
    "handles,labels = ax.get_legend_handles_labels()\n",
    "save_to_pdf('./plots/umap_neighbor_4_node2vec.pdf', ax)"
   ]
  },
  {
   "cell_type": "code",
   "execution_count": null,
   "metadata": {},
   "outputs": [],
   "source": [
    "fig_legend = plt.figure(figsize=(2,2))\n",
    "axi = fig_legend.add_subplot(111)     \n",
    "fig_legend.legend(handles[1:], labels[1:], markerscale=4.2,  ncol=5, frameon=False,)\n",
    "axi.xaxis.set_visible(False)\n",
    "axi.yaxis.set_visible(False)\n",
    "axi.patch.set_alpha(0)\n",
    "fig_legend.canvas.draw()\n",
    "fig_legend.show()\n",
    "save_to_pdf('./plots/legend.pdf', axi)"
   ]
  },
  {
   "cell_type": "code",
   "execution_count": null,
   "metadata": {},
   "outputs": [],
   "source": [
    "color_palette = sns.color_palette(\"Accent\", len(np.unique(10)))\n",
    "vis_df = pd.DataFrame()\n",
    "vis_df['x'] = embedding[:, 0]\n",
    "vis_df['y'] = embedding[:, 1]\n",
    "vis_df['category'] = preds\n",
    "vis_df['color'] = color"
   ]
  },
  {
   "cell_type": "code",
   "execution_count": null,
   "metadata": {},
   "outputs": [],
   "source": [
    "sns.set()\n",
    "fig, ax = plt.subplots(1, figsize=(10, 10))\n",
    "ax = sns.scatterplot(x=\"x\", y=\"y\", hue='category', marker='+', data=vis_df, alpha=0.8, legend=False, linewidth=1)\n",
    "plt.gca().set_aspect('equal', 'datalim')\n",
    "plt.legend(bbox_to_anchor=(1.05, 1), loc=2, borderaxespad=0.)\n",
    "ax.get_xaxis().set_visible(False)\n",
    "ax.get_yaxis().set_visible(False)\n",
    "save_to_pdf('./plots/umap_neighbor_4_node2vec_clustered.pdf', ax)"
   ]
  },
  {
   "cell_type": "code",
   "execution_count": null,
   "metadata": {},
   "outputs": [],
   "source": [
    "len(list(filter(lambda x: x in user_cat_dict, validation_authors)))"
   ]
  },
  {
   "cell_type": "code",
   "execution_count": null,
   "metadata": {},
   "outputs": [],
   "source": [
    "preds"
   ]
  },
  {
   "cell_type": "code",
   "execution_count": null,
   "metadata": {},
   "outputs": [],
   "source": [
    "vis_df['category'].unique()"
   ]
  },
  {
   "cell_type": "code",
   "execution_count": null,
   "metadata": {},
   "outputs": [],
   "source": []
  }
 ],
 "metadata": {
  "kernelspec": {
   "display_name": "Python 3",
   "language": "python",
   "name": "python3"
  },
  "language_info": {
   "codemirror_mode": {
    "name": "ipython",
    "version": 3
   },
   "file_extension": ".py",
   "mimetype": "text/x-python",
   "name": "python",
   "nbconvert_exporter": "python",
   "pygments_lexer": "ipython3",
   "version": "3.6.9"
  }
 },
 "nbformat": 4,
 "nbformat_minor": 4
}
