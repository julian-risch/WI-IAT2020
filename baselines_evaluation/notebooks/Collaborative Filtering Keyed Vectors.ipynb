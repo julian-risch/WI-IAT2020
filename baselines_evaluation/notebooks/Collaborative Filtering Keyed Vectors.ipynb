{
  "cells": [
    {
      "cell_type": "code",
      "execution_count": 13,
      "metadata": {
        "pycharm": {}
      },
      "outputs": [],
      "source": [
        "import pandas as pd\n",
        "from tqdm import tqdm\n",
        "import numpy as np"
      ]
    },
    {
      "cell_type": "code",
      "execution_count": 2,
      "metadata": {
        "pycharm": {}
      },
      "outputs": [],
      "source": "import sys\nsys.path.append(\u0027../\u0027)\nvalidation_path \u003d \u0027\u0027\ntrain_set_path \u003d \u0027\u0027\nauthors_validation \u003d \u0027\u0027\noutput_path \u003d \u0027\u0027"
    },
    {
      "cell_type": "code",
      "execution_count": 3,
      "metadata": {
        "pycharm": {}
      },
      "outputs": [],
      "source": "df_test \u003d pd.read_csv(validation_path)\ndf_test_author_ids \u003d df_test[\u0027author_id\u0027].unique()\ndf_train \u003d pd.read_csv(train_set_path)\nauthor_ids \u003d df_train[df_train[\u0027author_id\u0027].isin(df_test_author_ids)][\u0027author_id\u0027].unique()\narticle_counts \u003d df_train.groupby([\u0027author_id\u0027, \u0027article_id\u0027])[\u0027comment_id\u0027].nunique()\narticle_counts \u003d article_counts.reset_index()\narticle_ids \u003d df_train[\u0027article_id\u0027].unique()\narticle_to_position \u003d {article_id: i for i, article_id in enumerate(article_ids)}"
    },
    {
      "cell_type": "code",
      "execution_count": 7,
      "metadata": {
        "pycharm": {}
      },
      "outputs": [],
      "source": "def prepare_collab():\n    df_test \u003d pd.read_csv(validation_path)\n    df_test_author_ids \u003d df_test[\u0027author_id\u0027].unique()\n    df_train \u003d pd.read_csv(train_set_path)\n    author_ids \u003d df_train[df_train[\u0027author_id\u0027].isin(df_test_author_ids)][\u0027author_id\u0027].unique()\n    article_counts \u003d df_train.groupby([\u0027author_id\u0027, \u0027article_id\u0027])[\u0027comment_id\u0027].nunique()\n    article_counts \u003d article_counts.reset_index()\n    article_ids \u003d df_train[\u0027article_id\u0027].unique()\n    article_to_position \u003d {article_id: i for i, article_id in enumerate(article_ids)}\n\n\n    # %%\n    def get_user_representation(user_id):\n        selection \u003d article_counts[article_counts[\u0027author_id\u0027] \u003d\u003d user_id]\n        user_dict \u003d {}\n        for index, row in selection.iterrows():\n            article_id \u003d row[\u0027article_id\u0027]\n            count \u003d row[\u0027comment_id\u0027]\n            user_dict[article_id] \u003d count\n        return user_dict\n\n    # %%\n    user_vectors \u003d {}\n    for user in tqdm(author_ids):\n        user_vectors[user] \u003d get_user_representation(user)\n    return user_vectors, article_to_position, len(article_ids)"
    },
    {
      "cell_type": "code",
      "execution_count": 8,
      "metadata": {
        "pycharm": {}
      },
      "outputs": [
        {
          "name": "stderr",
          "output_type": "stream",
          "text": [
            "100%|██████████| 47175/47175 [02:35\u003c00:00, 303.56it/s]\n"
          ]
        }
      ],
      "source": [
        "user_vector_info_dict, article_to_position, vector_size \u003d prepare_collab()"
      ]
    },
    {
      "cell_type": "code",
      "execution_count": 9,
      "metadata": {
        "pycharm": {}
      },
      "outputs": [
        {
          "data": {
            "text/plain": [
              "13419"
            ]
          },
          "execution_count": 9,
          "metadata": {},
          "output_type": "execute_result"
        }
      ],
      "source": [
        "vector_size"
      ]
    },
    {
      "cell_type": "code",
      "execution_count": 10,
      "metadata": {
        "pycharm": {}
      },
      "outputs": [],
      "source": "df_test \u003d pd.read_csv(validation_path)\ndf_test.index \u003d df_test[\u0027comment_id\u0027]\ncomment_id_to_user_id \u003d df_test[\u0027author_id\u0027].to_dict()"
    },
    {
      "cell_type": "code",
      "execution_count": 11,
      "metadata": {
        "pycharm": {}
      },
      "outputs": [],
      "source": [
        "def get_user_representation_vector(user_id):\n",
        "    selection \u003d article_counts[article_counts[\u0027author_id\u0027] \u003d\u003d user_id]\n",
        "    user_dict \u003d {}\n",
        "    for index, row in selection.iterrows():\n",
        "        article_id \u003d row[\u0027article_id\u0027]\n",
        "        count \u003d row[\u0027comment_id\u0027]\n",
        "        user_dict[article_id] \u003d count\n",
        "    return user_dict\n",
        "\n",
        "\n",
        "def get_user_representation(user_id):\n",
        "    user_info_dict \u003d user_vector_info_dict[user_id]\n",
        "    out \u003d np.zeros(vector_size)\n",
        "    for key, value in user_info_dict.items():\n",
        "        out[article_to_position[key]] \u003d value\n",
        "    return out\n"
      ]
    },
    {
      "cell_type": "code",
      "execution_count": 14,
      "metadata": {
        "pycharm": {}
      },
      "outputs": [],
      "source": "usable_authors_test \u003d np.load(authors_validation)"
    },
    {
      "cell_type": "code",
      "execution_count": 15,
      "metadata": {
        "pycharm": {}
      },
      "outputs": [],
      "source": [
        "user_matrix \u003d np.zeros((len(usable_authors_test), len(get_user_representation(usable_authors_test[0]))))"
      ]
    },
    {
      "cell_type": "code",
      "execution_count": 16,
      "metadata": {
        "pycharm": {}
      },
      "outputs": [
        {
          "data": {
            "text/plain": [
              "(14457, 13419)"
            ]
          },
          "execution_count": 16,
          "metadata": {},
          "output_type": "execute_result"
        }
      ],
      "source": [
        "user_matrix.shape"
      ]
    },
    {
      "cell_type": "code",
      "execution_count": 17,
      "metadata": {
        "pycharm": {}
      },
      "outputs": [],
      "source": [
        "from gensim.models import KeyedVectors"
      ]
    },
    {
      "cell_type": "code",
      "execution_count": 18,
      "metadata": {
        "pycharm": {}
      },
      "outputs": [],
      "source": [
        "from tqdm import tqdm_notebook"
      ]
    },
    {
      "cell_type": "code",
      "execution_count": 19,
      "metadata": {
        "pycharm": {}
      },
      "outputs": [
        {
          "name": "stderr",
          "output_type": "stream",
          "text": [
            "100%|██████████| 14457/14457 [00:00\u003c00:00, 18828.90it/s]\n"
          ]
        }
      ],
      "source": [
        "for index, author in enumerate(tqdm(usable_authors_test)):\n",
        "    user_matrix[index] \u003d get_user_representation(author)"
      ]
    },
    {
      "cell_type": "code",
      "execution_count": 20,
      "metadata": {
        "pycharm": {}
      },
      "outputs": [],
      "source": [
        "key_vectors \u003d KeyedVectors(vector_size\u003dlen(user_matrix[0]))"
      ]
    },
    {
      "cell_type": "code",
      "execution_count": 21,
      "metadata": {
        "pycharm": {}
      },
      "outputs": [],
      "source": [
        "authors \u003d [str(author) for author in usable_authors_test]"
      ]
    },
    {
      "cell_type": "code",
      "execution_count": 22,
      "metadata": {
        "pycharm": {}
      },
      "outputs": [],
      "source": [
        "key_vectors.add(authors, user_matrix)"
      ]
    },
    {
      "cell_type": "code",
      "execution_count": 23,
      "metadata": {
        "pycharm": {}
      },
      "outputs": [],
      "source": "key_vectors.save_word2vec_format(output_path)"
    },
    {
      "cell_type": "code",
      "execution_count": null,
      "metadata": {
        "pycharm": {}
      },
      "outputs": [],
      "source": []
    }
  ],
  "metadata": {
    "kernelspec": {
      "display_name": "Python 3",
      "language": "python",
      "name": "python3"
    },
    "language_info": {
      "codemirror_mode": {
        "name": "ipython",
        "version": 3
      },
      "file_extension": ".py",
      "mimetype": "text/x-python",
      "name": "python",
      "nbconvert_exporter": "python",
      "pygments_lexer": "ipython3",
      "version": "3.6.9"
    }
  },
  "nbformat": 4,
  "nbformat_minor": 4
}