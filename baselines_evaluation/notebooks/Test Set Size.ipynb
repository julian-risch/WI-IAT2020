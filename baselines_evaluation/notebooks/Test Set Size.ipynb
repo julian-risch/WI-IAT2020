{
 "cells": [
  {
   "cell_type": "code",
   "execution_count": null,
   "metadata": {},
   "outputs": [],
   "source": [
    "import pandas as pd\n",
    "import numpy as np"
   ]
  },
  {
   "cell_type": "code",
   "execution_count": null,
   "metadata": {},
   "outputs": [],
   "source": [
    "path = ''\n",
    "train_df = ''"
   ]
  },
  {
   "cell_type": "code",
   "execution_count": null,
   "metadata": {},
   "outputs": [],
   "source": [
    "df = pd.read_csv(path)\n",
    "df_train_groupby_count = df_train_fixed.groupby('author_id')['comment_id'].count().reset_index()"
   ]
  },
  {
   "cell_type": "code",
   "execution_count": null,
   "metadata": {},
   "outputs": [],
   "source": [
    "df_train_fixed = pd.read_csv(train_df)\n",
    "\n",
    "#%%\n",
    "df_train_fixed['timestamp'] = pd.to_datetime(df_train_fixed['timestamp'])\n",
    "\n",
    "#%%\n",
    "print(df_train_fixed['timestamp'].max())\n",
    "print(df_train_fixed['timestamp'].min())\n",
    "#%%\n",
    "df_train_groupby_count = df_train_fixed.groupby('author_id')['comment_id'].count().reset_index()\n",
    "\n",
    "#%%\n",
    "## only users with more 2 comments in train set\n",
    "train_author_ids = df_train_groupby_count[df_train_groupby_count['comment_id'] > 4]['author_id'].unique()\n",
    "\n",
    "#%%\n",
    "usable_authors = df_train_fixed[df_train_fixed['author_id'].isin(train_author_ids)]['author_id'].unique()\n",
    "\n"
   ]
  },
  {
   "cell_type": "code",
   "execution_count": null,
   "metadata": {},
   "outputs": [],
   "source": [
    "len(usable_authors)"
   ]
  },
  {
   "cell_type": "code",
   "execution_count": null,
   "metadata": {},
   "outputs": [],
   "source": [
    "df_train = pd.read_csv(train_df)"
   ]
  },
  {
   "cell_type": "code",
   "execution_count": null,
   "metadata": {},
   "outputs": [],
   "source": [
    "len(df_train)"
   ]
  },
  {
   "cell_type": "code",
   "execution_count": null,
   "metadata": {},
   "outputs": [],
   "source": [
    "len(df_train[df_train['author_id'].isin(usable_authors)])"
   ]
  },
  {
   "cell_type": "code",
   "execution_count": null,
   "metadata": {},
   "outputs": [],
   "source": []
  }
 ],
 "metadata": {
  "kernelspec": {
   "display_name": "Python 3",
   "language": "python",
   "name": "python3"
  },
  "language_info": {
   "codemirror_mode": {
    "name": "ipython",
    "version": 3
   },
   "file_extension": ".py",
   "mimetype": "text/x-python",
   "name": "python",
   "nbconvert_exporter": "python",
   "pygments_lexer": "ipython3",
   "version": "3.6.9"
  }
 },
 "nbformat": 4,
 "nbformat_minor": 4
}
