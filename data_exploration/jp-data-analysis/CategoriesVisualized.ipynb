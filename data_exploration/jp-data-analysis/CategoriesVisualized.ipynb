{
 "cells": [
  {
   "cell_type": "code",
   "execution_count": null,
   "metadata": {},
   "outputs": [],
   "source": [
    "import pandas as pd\n",
    "import seaborn as sns\n",
    "sns.set(style=\"whitegrid\")"
   ]
  },
  {
   "cell_type": "code",
   "execution_count": null,
   "metadata": {},
   "outputs": [],
   "source": [
    "def save_to_pdf(filename, ax):\n",
    "    fig = ax.get_figure()\n",
    "    fig.savefig(filename, bbox_inches='tight')"
   ]
  },
  {
   "cell_type": "code",
   "execution_count": null,
   "metadata": {},
   "outputs": [],
   "source": [
    "df_articles = pd.read_csv(\n",
    "    '/mnt/data/datasets/newspapers/guardian/c_articles.csv')\n",
    "\n",
    "# %%\n",
    "df_articles.head(1)\n",
    "\n",
    "def get_daily_cat(x):\n",
    "    if len(x.split('/')) == 3:\n",
    "        return None\n",
    "    else:\n",
    "        x_split = x.split('/')\n",
    "        if 'article-' not in x_split[4]:\n",
    "            return x_split[4]\n",
    "        else:\n",
    "            return x_split[3]\n",
    "\n",
    "df_articles['category'] = df_articles['article_url'].apply(get_daily_cat)"
   ]
  },
  {
   "cell_type": "code",
   "execution_count": null,
   "metadata": {},
   "outputs": [],
   "source": [
    "out = df_articles.groupby('category').article_id.count().reset_index()"
   ]
  },
  {
   "cell_type": "code",
   "execution_count": null,
   "metadata": {},
   "outputs": [],
   "source": [
    "out = out.sort_values(by='article_id', ascending=False)"
   ]
  },
  {
   "cell_type": "code",
   "execution_count": null,
   "metadata": {},
   "outputs": [],
   "source": [
    "out.head(10)"
   ]
  },
  {
   "cell_type": "code",
   "execution_count": null,
   "metadata": {},
   "outputs": [],
   "source": [
    "len(out.category.unique())"
   ]
  },
  {
   "cell_type": "code",
   "execution_count": null,
   "metadata": {},
   "outputs": [],
   "source": [
    "import matplotlib.pyplot as plt\n",
    "sns.set(rc={'figure.figsize':(3,6)})\n",
    "ax = sns.barplot(y='category', x='article_id', data=out.head(10), color='dodgerblue')\n",
    "plt.xticks(rotation=45)\n",
    "\n",
    "ax.set_ylabel('Categories')\n",
    "ax.set_xlabel('Number of Articles')\n",
    "save_to_pdf('guardian_categories.pdf', ax)"
   ]
  },
  {
   "cell_type": "code",
   "execution_count": null,
   "metadata": {},
   "outputs": [],
   "source": [
    "df_articles = pd.read_csv(\n",
    "    '/mnt/data/datasets/newspapers/daily-mail/c_articles.csv')\n",
    "\n",
    "# %%\n",
    "df_articles.head()\n",
    "\n",
    "# %%\n",
    "df_articles['category'] = df_articles['article_url'].apply(\n",
    "    lambda x: None if len(x.split('/')) == 3 else x.split('/')[3] )"
   ]
  },
  {
   "cell_type": "code",
   "execution_count": null,
   "metadata": {},
   "outputs": [],
   "source": [
    "df_articles"
   ]
  },
  {
   "cell_type": "code",
   "execution_count": null,
   "metadata": {},
   "outputs": [],
   "source": [
    "out = df_articles.groupby('category').article_id.count().reset_index()"
   ]
  },
  {
   "cell_type": "code",
   "execution_count": null,
   "metadata": {},
   "outputs": [],
   "source": [
    "out = out.sort_values(by='article_id', ascending=False)"
   ]
  },
  {
   "cell_type": "code",
   "execution_count": null,
   "metadata": {},
   "outputs": [],
   "source": [
    "len(out.category.unique())"
   ]
  },
  {
   "cell_type": "code",
   "execution_count": null,
   "metadata": {},
   "outputs": [],
   "source": [
    "sns.set(rc={'figure.figsize':(3,6)})\n",
    "ax = sns.barplot(y='category', x='article_id', data=out.head(10), color='dodgerblue')\n",
    "plt.xticks(rotation=45)\n",
    "sns.set(rc={'figure.figsize':(5,10)})\n",
    "ax.set_ylabel('Categories')\n",
    "ax.set_xlabel('Number of Articles')\n",
    "save_to_pdf('daily_categories.pdf', ax)"
   ]
  },
  {
   "cell_type": "code",
   "execution_count": null,
   "metadata": {},
   "outputs": [],
   "source": []
  }
 ],
 "metadata": {
  "kernelspec": {
   "display_name": "Python 3",
   "language": "python",
   "name": "python3"
  },
  "language_info": {
   "codemirror_mode": {
    "name": "ipython",
    "version": 3
   },
   "file_extension": ".py",
   "mimetype": "text/x-python",
   "name": "python",
   "nbconvert_exporter": "python",
   "pygments_lexer": "ipython3",
   "version": "3.6.9"
  }
 },
 "nbformat": 4,
 "nbformat_minor": 4
}
