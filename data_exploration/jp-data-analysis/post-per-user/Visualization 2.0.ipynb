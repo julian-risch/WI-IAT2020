{
 "cells": [
  {
   "cell_type": "code",
   "execution_count": null,
   "metadata": {},
   "outputs": [],
   "source": [
    "import pandas as pd\n",
    "import matplotlib.pyplot as plt\n",
    "import seaborn as sns"
   ]
  },
  {
   "cell_type": "code",
   "execution_count": null,
   "metadata": {},
   "outputs": [],
   "source": [
    "path = '../data'\n",
    "def get_data_path(data_path):\n",
    "    return path + '/' + data_path"
   ]
  },
  {
   "cell_type": "code",
   "execution_count": null,
   "metadata": {},
   "outputs": [],
   "source": [
    "def save_to_pdf(filename, ax):\n",
    "    fig = ax.get_figure()\n",
    "    fig.savefig(filename, bbox_inches='tight')"
   ]
  },
  {
   "cell_type": "code",
   "execution_count": null,
   "metadata": {},
   "outputs": [],
   "source": [
    "daily_df = pd.read_csv(get_data_path('daily-mail_user_comments.csv'))\n",
    "guardian_df = pd.read_csv(get_data_path('guardian_user_comments.csv'))\n",
    "ynacc_df = pd.read_csv(get_data_path('ynacc_user_comments.csv'), header=None, skiprows=1)\n",
    "independent_df = pd.read_csv(get_data_path('the-independent_user_comments.csv'), header=None, skiprows=1)"
   ]
  },
  {
   "cell_type": "code",
   "execution_count": null,
   "metadata": {},
   "outputs": [],
   "source": [
    "guardian_df = guardian_df[guardian_df['comment_id'] > 1]"
   ]
  },
  {
   "cell_type": "code",
   "execution_count": null,
   "metadata": {},
   "outputs": [],
   "source": [
    "guardian_df[guardian_df['comment_id'] >= 9] = '>= 9'"
   ]
  },
  {
   "cell_type": "code",
   "execution_count": null,
   "metadata": {},
   "outputs": [],
   "source": [
    "df = guardian_df.reset_index().groupby('comment_id')['author_id'].count()"
   ]
  },
  {
   "cell_type": "code",
   "execution_count": null,
   "metadata": {},
   "outputs": [],
   "source": [
    "import matplotlib as mpl\n",
    "ll = []\n",
    "ll.extend([f'{el+1} comments' for el in list(range(1,8))])\n",
    "ll.append('>= 9 comments')\n",
    "mpl.rcParams['font.size'] = 22.0\n",
    "flatui = [\"windows blue\", \"amber\", \"greyish\", \"faded green\", \"dusty purple\"]\n",
    "with sns.color_palette('Set2'):\n",
    "    plt.subplots(figsize=(13,6))\n",
    "    ax = df.plot(kind='pie', autopct='%1.1f%%', figsize=(18, 16), labels=ll, title=None,startangle=120, wedgeprops={\"edgecolor\":\"0\",'linewidth': 1,\n",
    "                    'antialiased': True})\n",
    "    plt.axis('equal')\n",
    "    plt.show()\n",
    "    save_to_pdf('test.pdf', ax)"
   ]
  },
  {
   "cell_type": "code",
   "execution_count": null,
   "metadata": {},
   "outputs": [],
   "source": [
    "df.head(10)"
   ]
  },
  {
   "cell_type": "code",
   "execution_count": null,
   "metadata": {},
   "outputs": [],
   "source": [
    "guardian_df['author_id'].nunique()"
   ]
  },
  {
   "cell_type": "code",
   "execution_count": null,
   "metadata": {},
   "outputs": [],
   "source": [
    "daily_df[daily_df['commend_id'] >= 7] = '>= 7'"
   ]
  },
  {
   "cell_type": "code",
   "execution_count": null,
   "metadata": {},
   "outputs": [],
   "source": [
    "df = daily_df.groupby('commend_id')[' author_id'].count()"
   ]
  },
  {
   "cell_type": "code",
   "execution_count": null,
   "metadata": {},
   "outputs": [],
   "source": [
    "import matplotlib as mpl\n",
    "\n",
    "ll = ['1 comment']\n",
    "ll.extend([f'{el+1} comments' for el in list(range(1,6))])\n",
    "ll.append('>= 7 comments')\n",
    "mpl.rcParams['font.size'] = 22.0\n",
    "flatui = [\"windows blue\", \"amber\", \"greyish\", \"faded green\", \"dusty purple\"]\n",
    "with sns.color_palette('Set2'):\n",
    "    plt.subplots(figsize=(13,6))\n",
    "    ax = df.plot(kind='pie', autopct='%1.1f%%', figsize=(18, 16), labels=ll, title=None,startangle=90, wedgeprops={\"edgecolor\":\"0\",'linewidth': 1,\n",
    "                    'antialiased': True})\n",
    "    plt.axis('equal')\n",
    "    plt.show()\n",
    "    save_to_pdf('test.pdf', ax)"
   ]
  },
  {
   "cell_type": "code",
   "execution_count": null,
   "metadata": {},
   "outputs": [],
   "source": [
    "daily_df.columns"
   ]
  },
  {
   "cell_type": "code",
   "execution_count": null,
   "metadata": {},
   "outputs": [],
   "source": [
    "da"
   ]
  },
  {
   "cell_type": "code",
   "execution_count": null,
   "metadata": {},
   "outputs": [],
   "source": [
    "ll.extend([f'{el+1} comments' for el in list(range(1,10))])\n",
    "ll.append('>= 9 comments')"
   ]
  },
  {
   "cell_type": "code",
   "execution_count": null,
   "metadata": {},
   "outputs": [],
   "source": [
    "ll"
   ]
  },
  {
   "cell_type": "code",
   "execution_count": null,
   "metadata": {},
   "outputs": [],
   "source": []
  }
 ],
 "metadata": {
  "kernelspec": {
   "display_name": "Python 3",
   "language": "python",
   "name": "python3"
  },
  "language_info": {
   "codemirror_mode": {
    "name": "ipython",
    "version": 3
   },
   "file_extension": ".py",
   "mimetype": "text/x-python",
   "name": "python",
   "nbconvert_exporter": "python",
   "pygments_lexer": "ipython3",
   "version": "3.6.9"
  }
 },
 "nbformat": 4,
 "nbformat_minor": 4
}
