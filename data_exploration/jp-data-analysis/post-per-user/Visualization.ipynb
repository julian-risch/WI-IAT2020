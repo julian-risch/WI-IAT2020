{
 "cells": [
  {
   "cell_type": "code",
   "execution_count": null,
   "metadata": {},
   "outputs": [],
   "source": [
    "import pandas as pd\n",
    "import matplotlib.pyplot as plt\n",
    "import seaborn as sns"
   ]
  },
  {
   "cell_type": "code",
   "execution_count": null,
   "metadata": {},
   "outputs": [],
   "source": [
    "sns.set(color_codes=True)\n",
    "sns.set_context(\"paper\")\n",
    "def save_to_pdf(filename, ax):\n",
    "    fig = ax.get_figure()\n",
    "    fig.savefig(filename, bbox_inches='tight')"
   ]
  },
  {
   "cell_type": "code",
   "execution_count": null,
   "metadata": {},
   "outputs": [],
   "source": [
    "path = '../data'\n",
    "def get_data_path(data_path):\n",
    "    return path + '/' + data_path"
   ]
  },
  {
   "cell_type": "code",
   "execution_count": null,
   "metadata": {},
   "outputs": [],
   "source": [
    "daily_df = pd.read_csv(get_data_path('daily-mail_user_comments.csv'),header=None, skiprows=1)\n",
    "guardian_df = pd.read_csv(get_data_path('guardian_user_comments.csv'), header=None, skiprows=1)\n",
    "ynacc_df = pd.read_csv(get_data_path('ynacc_user_comments.csv'), header=None, skiprows=1)\n",
    "independent_df = pd.read_csv(get_data_path('the-independent_user_comments.csv'), header=None, skiprows=1)"
   ]
  },
  {
   "cell_type": "code",
   "execution_count": null,
   "metadata": {},
   "outputs": [],
   "source": [
    "guardian_df = pd.read_csv(get_data_path('guardian_user_comments.csv'))"
   ]
  },
  {
   "cell_type": "code",
   "execution_count": null,
   "metadata": {},
   "outputs": [],
   "source": [
    "guardian_df.describe()"
   ]
  },
  {
   "cell_type": "code",
   "execution_count": null,
   "metadata": {},
   "outputs": [],
   "source": [
    "guardian_df.quantile([.85])"
   ]
  },
  {
   "cell_type": "code",
   "execution_count": null,
   "metadata": {},
   "outputs": [],
   "source": [
    "concat = pd.concat([\n",
    "    daily_df.assign(dataset='The Daily'),\n",
    "    guardian_df.assign(dataset='The Guardian')])"
   ]
  },
  {
   "cell_type": "code",
   "execution_count": null,
   "metadata": {},
   "outputs": [],
   "source": [
    "max_comments = 50"
   ]
  },
  {
   "cell_type": "code",
   "execution_count": null,
   "metadata": {},
   "outputs": [],
   "source": [
    "g = sns.distplot(daily_df[daily_df[1] < max_comments][1], kde=False)"
   ]
  },
  {
   "cell_type": "code",
   "execution_count": null,
   "metadata": {},
   "outputs": [],
   "source": [
    "ax = sns.distplot(guardian_df[guardian_df[1] < max_comments][1], kde=False)"
   ]
  },
  {
   "cell_type": "code",
   "execution_count": null,
   "metadata": {},
   "outputs": [],
   "source": [
    "ax = sns.distplot(ynacc_df[ynacc_df[1] < max_comments][1], kde=False)"
   ]
  },
  {
   "cell_type": "code",
   "execution_count": null,
   "metadata": {},
   "outputs": [],
   "source": [
    "ax = sns.distplot(independent_df[independent_df[1] < max_comments][1], kde=False)"
   ]
  },
  {
   "cell_type": "code",
   "execution_count": null,
   "metadata": {},
   "outputs": [],
   "source": [
    "concatenated = concat.rename(columns={1: 'num'})"
   ]
  },
  {
   "cell_type": "code",
   "execution_count": null,
   "metadata": {},
   "outputs": [],
   "source": [
    "concatenated.columns"
   ]
  },
  {
   "cell_type": "code",
   "execution_count": null,
   "metadata": {},
   "outputs": [],
   "source": [
    "g = sns.FacetGrid(concatenated[concatenated['num'] < 50], col='dataset', margin_titles=True)\n",
    "g = (g.map(sns.distplot, 'num', kde=False))\n",
    "g.set(xlabel='Number of Comments', ylabel='Number of Users')\n",
    "#g.set(yscale='log')"
   ]
  },
  {
   "cell_type": "code",
   "execution_count": null,
   "metadata": {},
   "outputs": [],
   "source": [
    "\n",
    "g = sns.FacetGrid(concatenated[concatenated['num']], col='dataset')\n",
    "g.set(xlabel='Number of Comments', ylabel='Number of Users')\n",
    "g = (g.map(sns.boxplot, 'num', orient='v'))"
   ]
  },
  {
   "cell_type": "code",
   "execution_count": null,
   "metadata": {},
   "outputs": [],
   "source": [
    "plot = sns.kdeplot(df[df.columns[1]], shade=True)\n",
    "plot.set(xlabel='Number of Comments', ylabel='Number of Users')"
   ]
  },
  {
   "cell_type": "code",
   "execution_count": null,
   "metadata": {},
   "outputs": [],
   "source": [
    "sns.load_dataset(\"tips\")"
   ]
  },
  {
   "cell_type": "code",
   "execution_count": null,
   "metadata": {},
   "outputs": [],
   "source": []
  },
  {
   "cell_type": "markdown",
   "metadata": {},
   "source": [
    "## Probability density for the number of user per number of comments estimated by using Kernel Density Estimation"
   ]
  },
  {
   "cell_type": "code",
   "execution_count": null,
   "metadata": {},
   "outputs": [],
   "source": [
    "bw=.4\n",
    "ax = sns.kdeplot(daily_df[daily_df[1] < max_comments][1], shade=True, bw=bw, label='The Daily')\n",
    "ax = sns.kdeplot(guardian_df[guardian_df[1] < max_comments][1], shade=True,bw=bw, label='The Guardian')\n",
    "ax = sns.kdeplot(ynacc_df[ynacc_df[1] < max_comments][1], shade=True,bw=bw, label='YNACC')\n",
    "ax = sns.kdeplot(independent_df[independent_df[1] < max_comments][1], bw=bw ,shade=True, label='The Independent')\n",
    "ax.set(xlabel='Number of Comments')\n",
    "plt.show()"
   ]
  },
  {
   "cell_type": "markdown",
   "metadata": {},
   "source": [
    "### "
   ]
  },
  {
   "cell_type": "code",
   "execution_count": null,
   "metadata": {},
   "outputs": [],
   "source": [
    "sns.kdeplot(daily_df[daily_df[1] < max_comments][1], shade=True, bw=bw, label='The Daily')"
   ]
  },
  {
   "cell_type": "code",
   "execution_count": null,
   "metadata": {},
   "outputs": [],
   "source": [
    "g = sns.kdeplot(guardian_df[guardian_df[1] < max_comments][1], shade=True,bw=bw, label='The Guardian')\n",
    "g.set(xlabel='Number of Comments')"
   ]
  },
  {
   "cell_type": "code",
   "execution_count": null,
   "metadata": {},
   "outputs": [],
   "source": []
  },
  {
   "cell_type": "code",
   "execution_count": null,
   "metadata": {},
   "outputs": [],
   "source": [
    "sns.kdeplot(ynacc_df[ynacc_df[1] < max_comments][1], shade=True,bw=bw, label='YNACC')"
   ]
  },
  {
   "cell_type": "code",
   "execution_count": null,
   "metadata": {},
   "outputs": [],
   "source": [
    "sns.kdeplot(independent_df[independent_df[1] < max_comments][1], bw=bw ,shade=True, label='The Independent')"
   ]
  },
  {
   "cell_type": "code",
   "execution_count": null,
   "metadata": {},
   "outputs": [],
   "source": [
    "\n",
    "g = sns.FacetGrid(concatenated[concatenated['num'] < max_comments], col='dataset')\n",
    "g = (g.map(sns.kdeplot, 'num', bw=bw ,shade=True))\n",
    "g.set(xlabel='Number of Comments')\n",
    "save_to_pdf('num_comments.pd', g.get_)"
   ]
  },
  {
   "cell_type": "code",
   "execution_count": null,
   "metadata": {},
   "outputs": [],
   "source": []
  }
 ],
 "metadata": {
  "kernelspec": {
   "display_name": "Python 3",
   "language": "python",
   "name": "python3"
  },
  "language_info": {
   "codemirror_mode": {
    "name": "ipython",
    "version": 3
   },
   "file_extension": ".py",
   "mimetype": "text/x-python",
   "name": "python",
   "nbconvert_exporter": "python",
   "pygments_lexer": "ipython3",
   "version": "3.6.9"
  }
 },
 "nbformat": 4,
 "nbformat_minor": 4
}
