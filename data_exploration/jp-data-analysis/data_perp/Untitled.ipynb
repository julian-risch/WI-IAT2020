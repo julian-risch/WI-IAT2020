{
 "cells": [
  {
   "cell_type": "code",
   "execution_count": 1,
   "metadata": {},
   "outputs": [],
   "source": [
    "import pandas as pd\n",
    "import numpy as np"
   ]
  },
  {
   "cell_type": "code",
   "execution_count": 2,
   "metadata": {},
   "outputs": [],
   "source": [
    "train_df = pd.read_csv('/mnt/data/vikuen/data/guardian/' + 'train-set_all.csv')"
   ]
  },
  {
   "cell_type": "code",
   "execution_count": 5,
   "metadata": {},
   "outputs": [],
   "source": [
    "o = train_df.groupby('author_id')['comment_id'].count().reset_index()"
   ]
  },
  {
   "cell_type": "code",
   "execution_count": 17,
   "metadata": {},
   "outputs": [
    {
     "data": {
      "text/plain": [
       "author_id     21600076777\n",
       "comment_id        3755960\n",
       "dtype: int64"
      ]
     },
     "execution_count": 17,
     "metadata": {},
     "output_type": "execute_result"
    }
   ],
   "source": [
    "o[o['comment_id'] > 1].sum()"
   ]
  },
  {
   "cell_type": "code",
   "execution_count": 14,
   "metadata": {},
   "outputs": [],
   "source": [
    "x = np.load('/mnt/data/vikuen/data/guardian/train_author_ids.npy')"
   ]
  },
  {
   "cell_type": "code",
   "execution_count": 16,
   "metadata": {},
   "outputs": [
    {
     "data": {
      "text/plain": [
       "95617"
      ]
     },
     "execution_count": 16,
     "metadata": {},
     "output_type": "execute_result"
    }
   ],
   "source": [
    "len(x)"
   ]
  },
  {
   "cell_type": "code",
   "execution_count": 19,
   "metadata": {},
   "outputs": [],
   "source": [
    "train_df.timestamp = pd.to_datetime(train_df.timestamp)"
   ]
  },
  {
   "cell_type": "code",
   "execution_count": 20,
   "metadata": {},
   "outputs": [
    {
     "data": {
      "text/html": [
       "<div>\n",
       "<style scoped>\n",
       "    .dataframe tbody tr th:only-of-type {\n",
       "        vertical-align: middle;\n",
       "    }\n",
       "\n",
       "    .dataframe tbody tr th {\n",
       "        vertical-align: top;\n",
       "    }\n",
       "\n",
       "    .dataframe thead th {\n",
       "        text-align: right;\n",
       "    }\n",
       "</style>\n",
       "<table border=\"1\" class=\"dataframe\">\n",
       "  <thead>\n",
       "    <tr style=\"text-align: right;\">\n",
       "      <th></th>\n",
       "      <th>article_id</th>\n",
       "      <th>author_id</th>\n",
       "      <th>comment_id</th>\n",
       "      <th>timestamp</th>\n",
       "      <th>parent_comment_id</th>\n",
       "      <th>upvotes</th>\n",
       "    </tr>\n",
       "  </thead>\n",
       "  <tbody>\n",
       "    <tr>\n",
       "      <td>1338903</td>\n",
       "      <td>198940</td>\n",
       "      <td>35295</td>\n",
       "      <td>90280784</td>\n",
       "      <td>2016-12-31 23:00:39+00:00</td>\n",
       "      <td>90280286.0</td>\n",
       "      <td>17</td>\n",
       "    </tr>\n",
       "    <tr>\n",
       "      <td>1338977</td>\n",
       "      <td>198940</td>\n",
       "      <td>435716</td>\n",
       "      <td>90280789</td>\n",
       "      <td>2016-12-31 23:00:46+00:00</td>\n",
       "      <td>90280435.0</td>\n",
       "      <td>15</td>\n",
       "    </tr>\n",
       "    <tr>\n",
       "      <td>1338817</td>\n",
       "      <td>198940</td>\n",
       "      <td>31946</td>\n",
       "      <td>90280826</td>\n",
       "      <td>2016-12-31 23:02:03+00:00</td>\n",
       "      <td>90280562.0</td>\n",
       "      <td>2</td>\n",
       "    </tr>\n",
       "    <tr>\n",
       "      <td>1921707</td>\n",
       "      <td>296842</td>\n",
       "      <td>37742</td>\n",
       "      <td>90280843</td>\n",
       "      <td>2016-12-31 23:02:39+00:00</td>\n",
       "      <td>90276501.0</td>\n",
       "      <td>2</td>\n",
       "    </tr>\n",
       "    <tr>\n",
       "      <td>1338738</td>\n",
       "      <td>198940</td>\n",
       "      <td>28246</td>\n",
       "      <td>90280846</td>\n",
       "      <td>2016-12-31 23:02:45+00:00</td>\n",
       "      <td>90280144.0</td>\n",
       "      <td>16</td>\n",
       "    </tr>\n",
       "    <tr>\n",
       "      <td>...</td>\n",
       "      <td>...</td>\n",
       "      <td>...</td>\n",
       "      <td>...</td>\n",
       "      <td>...</td>\n",
       "      <td>...</td>\n",
       "      <td>...</td>\n",
       "    </tr>\n",
       "    <tr>\n",
       "      <td>3240111</td>\n",
       "      <td>517586</td>\n",
       "      <td>33841</td>\n",
       "      <td>99553263</td>\n",
       "      <td>2017-05-31 23:59:43+00:00</td>\n",
       "      <td>99552715.0</td>\n",
       "      <td>1</td>\n",
       "    </tr>\n",
       "    <tr>\n",
       "      <td>1015209</td>\n",
       "      <td>154037</td>\n",
       "      <td>32040</td>\n",
       "      <td>99553273</td>\n",
       "      <td>2017-05-31 23:59:51+00:00</td>\n",
       "      <td>NaN</td>\n",
       "      <td>8</td>\n",
       "    </tr>\n",
       "    <tr>\n",
       "      <td>2883720</td>\n",
       "      <td>456586</td>\n",
       "      <td>149522</td>\n",
       "      <td>99553275</td>\n",
       "      <td>2017-05-31 23:59:54+00:00</td>\n",
       "      <td>99532997.0</td>\n",
       "      <td>2</td>\n",
       "    </tr>\n",
       "    <tr>\n",
       "      <td>3408232</td>\n",
       "      <td>541979</td>\n",
       "      <td>243030</td>\n",
       "      <td>99553276</td>\n",
       "      <td>2017-05-31 23:59:54+00:00</td>\n",
       "      <td>99552672.0</td>\n",
       "      <td>5</td>\n",
       "    </tr>\n",
       "    <tr>\n",
       "      <td>2569170</td>\n",
       "      <td>403676</td>\n",
       "      <td>22859</td>\n",
       "      <td>99553279</td>\n",
       "      <td>2017-05-31 23:59:56+00:00</td>\n",
       "      <td>99553181.0</td>\n",
       "      <td>3</td>\n",
       "    </tr>\n",
       "  </tbody>\n",
       "</table>\n",
       "<p>3805419 rows × 6 columns</p>\n",
       "</div>"
      ],
      "text/plain": [
       "         article_id  author_id  comment_id                 timestamp  \\\n",
       "1338903      198940      35295    90280784 2016-12-31 23:00:39+00:00   \n",
       "1338977      198940     435716    90280789 2016-12-31 23:00:46+00:00   \n",
       "1338817      198940      31946    90280826 2016-12-31 23:02:03+00:00   \n",
       "1921707      296842      37742    90280843 2016-12-31 23:02:39+00:00   \n",
       "1338738      198940      28246    90280846 2016-12-31 23:02:45+00:00   \n",
       "...             ...        ...         ...                       ...   \n",
       "3240111      517586      33841    99553263 2017-05-31 23:59:43+00:00   \n",
       "1015209      154037      32040    99553273 2017-05-31 23:59:51+00:00   \n",
       "2883720      456586     149522    99553275 2017-05-31 23:59:54+00:00   \n",
       "3408232      541979     243030    99553276 2017-05-31 23:59:54+00:00   \n",
       "2569170      403676      22859    99553279 2017-05-31 23:59:56+00:00   \n",
       "\n",
       "         parent_comment_id  upvotes  \n",
       "1338903         90280286.0       17  \n",
       "1338977         90280435.0       15  \n",
       "1338817         90280562.0        2  \n",
       "1921707         90276501.0        2  \n",
       "1338738         90280144.0       16  \n",
       "...                    ...      ...  \n",
       "3240111         99552715.0        1  \n",
       "1015209                NaN        8  \n",
       "2883720         99532997.0        2  \n",
       "3408232         99552672.0        5  \n",
       "2569170         99553181.0        3  \n",
       "\n",
       "[3805419 rows x 6 columns]"
      ]
     },
     "execution_count": 20,
     "metadata": {},
     "output_type": "execute_result"
    }
   ],
   "source": [
    "train_df.sort_values(by='timestamp')"
   ]
  },
  {
   "cell_type": "code",
   "execution_count": null,
   "metadata": {},
   "outputs": [],
   "source": []
  }
 ],
 "metadata": {
  "kernelspec": {
   "display_name": "Python 3",
   "language": "python",
   "name": "python3"
  },
  "language_info": {
   "codemirror_mode": {
    "name": "ipython",
    "version": 3
   },
   "file_extension": ".py",
   "mimetype": "text/x-python",
   "name": "python",
   "nbconvert_exporter": "python",
   "pygments_lexer": "ipython3",
   "version": "3.7.3"
  }
 },
 "nbformat": 4,
 "nbformat_minor": 4
}
