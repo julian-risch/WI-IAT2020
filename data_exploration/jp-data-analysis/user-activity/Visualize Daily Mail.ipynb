{
 "cells": [
  {
   "cell_type": "code",
   "execution_count": null,
   "metadata": {},
   "outputs": [],
   "source": [
    "import pandas as pd\n",
    "import seaborn as sns\n",
    "import numpy as np\n",
    "from PIL import Image\n",
    "import matplotlib.pyplot as plt\n",
    "from pandas.plotting import register_matplotlib_converters\n",
    "register_matplotlib_converters()\n",
    "sns.set(style=\"whitegrid\")"
   ]
  },
  {
   "cell_type": "code",
   "execution_count": null,
   "metadata": {},
   "outputs": [],
   "source": [
    "def save_to_pdf(filename, ax):\n",
    "    fig = ax.get_figure()\n",
    "    fig.savefig(filename, bbox_inches='tight')"
   ]
  },
  {
   "cell_type": "code",
   "execution_count": null,
   "metadata": {},
   "outputs": [],
   "source": [
    "df = pd.read_csv('../data/activity/daily-mail.csv')"
   ]
  },
  {
   "cell_type": "code",
   "execution_count": null,
   "metadata": {},
   "outputs": [],
   "source": [
    "df.head(1)"
   ]
  },
  {
   "cell_type": "code",
   "execution_count": null,
   "metadata": {},
   "outputs": [],
   "source": [
    "df.dtypes"
   ]
  },
  {
   "cell_type": "code",
   "execution_count": null,
   "metadata": {},
   "outputs": [],
   "source": [
    "df['min_timestamp'] = pd.to_datetime(df['min_timestamp'])\n",
    "df['max_timestamp'] = pd.to_datetime(df['max_timestamp'])"
   ]
  },
  {
   "cell_type": "code",
   "execution_count": null,
   "metadata": {},
   "outputs": [],
   "source": [
    "df['mean_timestamp'] = df['min_timestamp'] + (df['max_timestamp'] - df['min_timestamp'])/2"
   ]
  },
  {
   "cell_type": "code",
   "execution_count": null,
   "metadata": {},
   "outputs": [],
   "source": [
    "df['min_week_start'] = df['min_timestamp'].dt.to_period('W').apply(lambda r: r.start_time)\n",
    "df['max_week_start'] = df['max_timestamp'].dt.to_period('W').apply(lambda r: r.start_time)"
   ]
  },
  {
   "cell_type": "code",
   "execution_count": null,
   "metadata": {},
   "outputs": [],
   "source": [
    "df = df[df['count_posts'] > 5]\n",
    "df.sort_values('mean_timestamp', inplace=True)"
   ]
  },
  {
   "cell_type": "code",
   "execution_count": null,
   "metadata": {},
   "outputs": [],
   "source": [
    "print('number of weeks', df['min_week_start'].nunique())\n",
    "print('number of weeks', df['max_week_start'].nunique())"
   ]
  },
  {
   "cell_type": "code",
   "execution_count": null,
   "metadata": {},
   "outputs": [],
   "source": [
    "print('Unique users', df[df['count_posts'] > 5]['author_id'].nunique())"
   ]
  },
  {
   "cell_type": "code",
   "execution_count": null,
   "metadata": {},
   "outputs": [],
   "source": [
    "df.describe()"
   ]
  },
  {
   "cell_type": "code",
   "execution_count": null,
   "metadata": {},
   "outputs": [],
   "source": [
    "print(df['min_timestamp'].min())\n",
    "print(df['max_timestamp'].max())\n",
    "print('therefore 611 weeks')"
   ]
  },
  {
   "cell_type": "code",
   "execution_count": null,
   "metadata": {},
   "outputs": [],
   "source": [
    "from datetime import timedelta, date\n",
    "\n",
    "def daterange(date1, date2):\n",
    "    for n in range(int ((date2 - date1).days)+1):\n",
    "        yield date1 + timedelta(n)\n",
    "\n",
    "start_dt = df['min_timestamp'].min()\n",
    "end_dt = df['max_timestamp'].max()\n",
    "dates = []\n",
    "for dt in daterange(start_dt, end_dt):\n",
    "    dates.append(dt)"
   ]
  },
  {
   "cell_type": "code",
   "execution_count": null,
   "metadata": {},
   "outputs": [],
   "source": [
    "dates_df = pd.DataFrame(dates)\n",
    "dates_df = pd.to_datetime(dates_df[0])\n",
    "dates_df = dates_df.reset_index()"
   ]
  },
  {
   "cell_type": "code",
   "execution_count": null,
   "metadata": {},
   "outputs": [],
   "source": [
    "dates_df['week_of_date'] = dates_df[0].dt.to_period('W').apply(lambda r: r.start_time)"
   ]
  },
  {
   "cell_type": "code",
   "execution_count": null,
   "metadata": {},
   "outputs": [],
   "source": [
    "unqiue_dates = pd.to_datetime(dates_df['week_of_date']).unique()\n",
    "unqiue_dates.sort()"
   ]
  },
  {
   "cell_type": "code",
   "execution_count": null,
   "metadata": {},
   "outputs": [],
   "source": [
    "len(unqiue_dates)"
   ]
  },
  {
   "cell_type": "code",
   "execution_count": null,
   "metadata": {},
   "outputs": [],
   "source": [
    "map_timestamp_to_index = { v: k for k, v in pd.DataFrame(unqiue_dates).to_dict()[0].items()}"
   ]
  },
  {
   "cell_type": "code",
   "execution_count": null,
   "metadata": {},
   "outputs": [],
   "source": [
    "df.index = range(len(df))"
   ]
  },
  {
   "cell_type": "code",
   "execution_count": null,
   "metadata": {},
   "outputs": [],
   "source": [
    "heatmap = np.zeros((df['author_id'].count(), 439))\n",
    "count_errors = 0\n",
    "\n",
    "for index, row in df.iterrows():\n",
    "    start_index = map_timestamp_to_index[row['min_week_start']]\n",
    "    end_index = map_timestamp_to_index[row['max_week_start']]\n",
    "    for i in range(start_index, end_index +1):\n",
    "        if index == 555009:\n",
    "            print(index, i)\n",
    "        heatmap[index, i] = row['count_posts']\n",
    "print('Finished with ', count_errors, 'Errors')    "
   ]
  },
  {
   "cell_type": "code",
   "execution_count": null,
   "metadata": {},
   "outputs": [],
   "source": [
    "np.save('../data/activity/heatmap_dailymail_ordered_max.npy', heatmap)"
   ]
  },
  {
   "cell_type": "code",
   "execution_count": null,
   "metadata": {},
   "outputs": [],
   "source": [
    "heatmap = np.load('../data/activity/heatmap_guardian_ordered_max.npy')"
   ]
  },
  {
   "cell_type": "code",
   "execution_count": null,
   "metadata": {},
   "outputs": [],
   "source": [
    "from sklearn import preprocessing"
   ]
  },
  {
   "cell_type": "code",
   "execution_count": null,
   "metadata": {},
   "outputs": [],
   "source": [
    "scaler = preprocessing.MinMaxScaler(copy=True, feature_range=(0, 1))\n",
    "scaler.fit(heatmap)\n",
    "scaled = scaler.transform(heatmap)\n",
    "scaled[scaled > 0] = 1"
   ]
  },
  {
   "cell_type": "code",
   "execution_count": null,
   "metadata": {},
   "outputs": [],
   "source": [
    "from sklearn.metrics.pairwise import linear_kernel\n",
    "from sklearn.metrics import jaccard_similarity_score\n",
    "x = preprocessing.scale(heatmap)\n",
    "cosine_similarities = linear_kernel(x[0:1], x)"
   ]
  },
  {
   "cell_type": "code",
   "execution_count": null,
   "metadata": {},
   "outputs": [],
   "source": [
    "cosine_similarities"
   ]
  },
  {
   "cell_type": "code",
   "execution_count": null,
   "metadata": {},
   "outputs": [],
   "source": [
    "import matplotlib.dates as mdates\n",
    "myFmt = mdates.DateFormatter('%Y')\n",
    "\n",
    "fig, ax = plt.subplots(figsize=(13,6))\n",
    "# ax.xaxis.set_major_formatter(FuncFormatter(format_fn))\n",
    "ax.imshow(scaled, interpolation=\"nearest\", cmap='Blues', aspect='auto', vmin=0, vmax=1)\n",
    "index_to_date = pd.DataFrame(unqiue_dates).to_dict()[0]\n",
    "ax.set_xticklabels([index_to_date[date].year for date in [0, 0, 50, 100, 150, 200, 250, 300, 350, 400]])\n",
    "save_to_pdf('./plots/dailymail-daily_heatmap.pdf', ax)"
   ]
  },
  {
   "cell_type": "code",
   "execution_count": null,
   "metadata": {},
   "outputs": [],
   "source": [
    "sum_histogram = np.sum(scaled, axis=0)"
   ]
  },
  {
   "cell_type": "code",
   "execution_count": null,
   "metadata": {},
   "outputs": [],
   "source": [
    "plt.figure(figsize=(8,6))\n",
    "ax = sns.lineplot(x = unqiue_dates, y=sum_histogram, linewidth=2.5, markers=True, dashes=True)\n",
    "l1 = ax.lines[0]\n",
    "\n",
    "# Get the xy data from the lines so that we can shade\n",
    "x1 = l1.get_xydata()[:,0]\n",
    "y1 = l1.get_xydata()[:,1]\n",
    "ax.fill_between(x1,y1, color=\"blue\", alpha=0.1)\n",
    "ax.set(xlabel='Date', ylabel='Number of Comments', title='Guardian')\n",
    "save_to_pdf('./plots/dailymail-daily_user_count.pdf', ax)"
   ]
  },
  {
   "cell_type": "code",
   "execution_count": null,
   "metadata": {},
   "outputs": [],
   "source": []
  }
 ],
 "metadata": {
  "kernelspec": {
   "display_name": "Python 3",
   "language": "python",
   "name": "python3"
  },
  "language_info": {
   "codemirror_mode": {
    "name": "ipython",
    "version": 3
   },
   "file_extension": ".py",
   "mimetype": "text/x-python",
   "name": "python",
   "nbconvert_exporter": "python",
   "pygments_lexer": "ipython3",
   "version": "3.6.8"
  }
 },
 "nbformat": 4,
 "nbformat_minor": 2
}
