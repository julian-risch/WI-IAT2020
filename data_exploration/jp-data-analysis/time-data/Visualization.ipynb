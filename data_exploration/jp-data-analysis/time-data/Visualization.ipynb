{
 "cells": [
  {
   "cell_type": "code",
   "execution_count": null,
   "metadata": {},
   "outputs": [],
   "source": [
    "import pandas as pd\n",
    "import seaborn as sns\n",
    "import matplotlib.pyplot as plt\n",
    "from pandas.plotting import register_matplotlib_converters\n",
    "register_matplotlib_converters()\n",
    "#sns.set(style=\"whitegrid\")\n",
    "sns.set_context(\"paper\")\n",
    "sns.set()"
   ]
  },
  {
   "cell_type": "code",
   "execution_count": null,
   "metadata": {},
   "outputs": [],
   "source": [
    "def save_to_pdf(filename, ax):\n",
    "    fig = ax.get_figure()\n",
    "    fig.savefig(filename, bbox_inches='tight')"
   ]
  },
  {
   "cell_type": "code",
   "execution_count": null,
   "metadata": {},
   "outputs": [],
   "source": [
    "df_guardian = pd.read_csv('../data/time/guardian.csv')\n",
    "df_daily = pd.read_csv('../data/time/daily-mail.csv')\n",
    "df_ynacc = pd.read_csv('../data/time/ynacc.csv')"
   ]
  },
  {
   "cell_type": "code",
   "execution_count": null,
   "metadata": {},
   "outputs": [],
   "source": [
    "df_guardian.index = df_guardian['timestamp']\n",
    "df_daily.index = df_daily['timestamp']\n",
    "df_ynacc.index = df_ynacc['timestamp']"
   ]
  },
  {
   "cell_type": "code",
   "execution_count": null,
   "metadata": {},
   "outputs": [],
   "source": [
    "df_guardian['timestamp'] = pd.to_datetime(df_guardian['timestamp'])\n",
    "df_daily['timestamp'] = pd.to_datetime(df_daily['timestamp'])\n",
    "df_ynacc['timestamp'] = pd.to_datetime(df_ynacc['timestamp'])"
   ]
  },
  {
   "cell_type": "code",
   "execution_count": null,
   "metadata": {},
   "outputs": [],
   "source": [
    "df_guardian = df_guardian.iloc[:-15]"
   ]
  },
  {
   "cell_type": "code",
   "execution_count": null,
   "metadata": {},
   "outputs": [],
   "source": [
    "df_guardian['date'] = pd.to_datetime(df_guardian[\"timestamp\"].dt.strftime('%Y-%m'))\n",
    "df_daily['date'] = pd.to_datetime(df_daily[\"timestamp\"].dt.strftime('%Y-%m'))\n",
    "df_ynacc['date'] = pd.to_datetime(df_ynacc[\"timestamp\"].dt.strftime('%Y-%m'))"
   ]
  },
  {
   "cell_type": "code",
   "execution_count": null,
   "metadata": {},
   "outputs": [],
   "source": [
    "df_merge = pd.merge(df_guardian, df_daily, on='date', how='outer')"
   ]
  },
  {
   "cell_type": "code",
   "execution_count": null,
   "metadata": {},
   "outputs": [],
   "source": [
    "df_merge.columns"
   ]
  },
  {
   "cell_type": "code",
   "execution_count": null,
   "metadata": {},
   "outputs": [],
   "source": [
    "df_merge_comments = df_merge[['date', 'comments_count_x', 'comments_count_y']]\n",
    "df_merge_user = df_merge[['date', 'user_count_x', 'user_count_y']]"
   ]
  },
  {
   "cell_type": "code",
   "execution_count": null,
   "metadata": {},
   "outputs": [],
   "source": [
    "df_merge_comments = df_merge_comments.rename({'comments_count_x': 'guardian', 'comments_count_y': 'daily-mail'}, axis='columns')\n",
    "df_merge_user = df_merge_user.rename({'user_count_x': 'guardian', 'user_count_y': 'daily-mail'}, axis='columns')"
   ]
  },
  {
   "cell_type": "code",
   "execution_count": null,
   "metadata": {},
   "outputs": [],
   "source": [
    "sns.set()\n",
    "sns.set_context('paper', font_scale=1.8)"
   ]
  },
  {
   "cell_type": "code",
   "execution_count": null,
   "metadata": {},
   "outputs": [],
   "source": [
    "# Number of Comments per month of the year\n",
    "ax = sns.lineplot(x = df_guardian['date'], y=df_guardian['comments_count'],linewidth=2.5, ci=None)\n",
    "ax.set(xlabel='Time', ylabel='Number of Comments')\n",
    "plt.xticks(rotation=45)\n",
    "save_to_pdf('./plots/guardian_comments_count.pdf', ax)"
   ]
  },
  {
   "cell_type": "code",
   "execution_count": null,
   "metadata": {},
   "outputs": [],
   "source": [
    "ax = sns.lineplot(x = df_daily['date'], y=df_daily['comments_count'],linewidth=2.5, ci=None)\n",
    "ax.set(xlabel='Time', ylabel='Number of Comments')\n",
    "plt.xticks(rotation=45)\n",
    "save_to_pdf('./plots/dailymail_comments_count.pdf', ax)\n"
   ]
  },
  {
   "cell_type": "code",
   "execution_count": null,
   "metadata": {},
   "outputs": [],
   "source": [
    "ax = sns.lineplot(x = df_guardian['date'], y=df_guardian['user_count'], palette=\"tab10\", linewidth=2.5, ci=None)\n",
    "ax.set(xlabel='Time', ylabel='Number of active Users')\n",
    "plt.xticks(rotation=45)\n",
    "save_to_pdf('./plots/guardian_user_count.pdf', ax)"
   ]
  },
  {
   "cell_type": "code",
   "execution_count": null,
   "metadata": {},
   "outputs": [],
   "source": [
    "ax = sns.lineplot(x = df_daily['date'], y=df_daily['user_count'], palette=\"tab10\", linewidth=2.5, ci=None)\n",
    "ax.set(xlabel='Time', ylabel='Number of active Users')\n",
    "plt.xticks(rotation=45)\n",
    "save_to_pdf('./plots/dailymail_user_count.pdf', ax)"
   ]
  },
  {
   "cell_type": "code",
   "execution_count": null,
   "metadata": {},
   "outputs": [],
   "source": [
    "ax = sns.lineplot(x='date', y='value',  hue='variable', data=pd.melt(df_merge_comments, ['date']), palette=\"tab10\", linewidth=2.5, ci=None)\n",
    "# ax.set_yscale('log')\n",
    "handles, labels = ax.get_legend_handles_labels()\n",
    "ax.legend(handles=handles[1:], labels=labels[1:])\n",
    "ax.set(xlabel='Date', ylabel='Number of Comments')\n",
    "save_to_pdf('./plots/guardian-daily_comments_count.pdf', ax)"
   ]
  },
  {
   "cell_type": "code",
   "execution_count": null,
   "metadata": {},
   "outputs": [],
   "source": [
    "ax = sns.lineplot(x='date', y='value',  hue='variable', data=pd.melt(df_merge_user, ['date']), palette=\"tab10\", linewidth=2.5, ci=None)\n",
    "# ax.set_yscale('log')\n",
    "handles, labels = ax.get_legend_handles_labels()\n",
    "ax.legend(handles=handles[1:], labels=labels[1:])\n",
    "ax.set(xlabel='Date', ylabel='Number of active Users')\n",
    "save_to_pdf('./plots/guardian-daily_user_count.pdf', ax)"
   ]
  },
  {
   "cell_type": "code",
   "execution_count": null,
   "metadata": {},
   "outputs": [],
   "source": []
  }
 ],
 "metadata": {
  "kernelspec": {
   "display_name": "Python 3",
   "language": "python",
   "name": "python3"
  },
  "language_info": {
   "codemirror_mode": {
    "name": "ipython",
    "version": 3
   },
   "file_extension": ".py",
   "mimetype": "text/x-python",
   "name": "python",
   "nbconvert_exporter": "python",
   "pygments_lexer": "ipython3",
   "version": "3.6.9"
  }
 },
 "nbformat": 4,
 "nbformat_minor": 4
}
