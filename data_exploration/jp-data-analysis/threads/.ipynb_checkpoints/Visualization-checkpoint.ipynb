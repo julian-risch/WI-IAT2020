{
 "cells": [
  {
   "cell_type": "code",
   "execution_count": null,
   "metadata": {},
   "outputs": [],
   "source": [
    "import pandas as pd\n",
    "import seaborn as sns\n",
    "import numpy as np\n",
    "from pandas.plotting import register_matplotlib_converters\n",
    "register_matplotlib_converters()\n",
    "sns.set(style=\"whitegrid\")"
   ]
  },
  {
   "cell_type": "code",
   "execution_count": null,
   "metadata": {},
   "outputs": [],
   "source": [
    "def save_to_pdf(filename, ax):\n",
    "    fig = ax.get_figure()\n",
    "    fig.savefig(filename, bbox_inches='tight')"
   ]
  },
  {
   "cell_type": "code",
   "execution_count": null,
   "metadata": {},
   "outputs": [],
   "source": [
    "df_guardian = pd.read_csv('../data/threads/guardian.csv')\n",
    "df_daily = pd.read_csv('../data/threads/daily-mail.csv')"
   ]
  },
  {
   "cell_type": "code",
   "execution_count": null,
   "metadata": {},
   "outputs": [],
   "source": [
    "ax = sns.distplot(df_guardian['comments_count_per_thread'], kde=False)\n",
    "ax.set_yscale('log')\n",
    "ax.set(ylabel='Number of Threads', xlabel='Number of Comments in Thread', title='Guardian')\n",
    "save_to_pdf('./plots/guardian_comments_count_per_thread.pdf', ax)"
   ]
  },
  {
   "cell_type": "code",
   "execution_count": null,
   "metadata": {},
   "outputs": [],
   "source": [
    "df_daily.describe()"
   ]
  },
  {
   "cell_type": "code",
   "execution_count": null,
   "metadata": {},
   "outputs": [],
   "source": [
    "ax = sns.distplot(df_guardian['comments_count_per_thread'], kde=False)\n",
    "ax.set_yscale('log')\n",
    "ax.set(ylabel='Number of Threads', xlabel='Number of Comments in Thread', title='Daily Mail')\n",
    "save_to_pdf('./plots/daily_comments_count_per_thread.pdf', ax)"
   ]
  },
  {
   "cell_type": "code",
   "execution_count": null,
   "metadata": {},
   "outputs": [],
   "source": [
    "df_daily.describe()"
   ]
  },
  {
   "cell_type": "code",
   "execution_count": null,
   "metadata": {},
   "outputs": [],
   "source": [
    "ax = sns.distplot(df_guardian['user_count_per_thread'], kde=False)\n",
    "ax.set_yscale('log')\n",
    "ax.set(ylabel='Number of Threads', xlabel='Number of participating Users ', title='Guardian')\n",
    "save_to_pdf('./plots/guardian_user_count_per_thread.pdf', ax)"
   ]
  },
  {
   "cell_type": "code",
   "execution_count": null,
   "metadata": {},
   "outputs": [],
   "source": [
    "ax = sns.distplot(df_daily['user_count_per_thread'], kde=False)\n",
    "ax.set_yscale('log')\n",
    "ax.set(ylabel='Number of Threads', xlabel='Number of participating Users ', title='Daily Mail')\n",
    "save_to_pdf('./plots/daily_user_count_per_thread.pdf', ax)"
   ]
  },
  {
   "cell_type": "code",
   "execution_count": null,
   "metadata": {},
   "outputs": [],
   "source": []
  },
  {
   "cell_type": "code",
   "execution_count": null,
   "metadata": {},
   "outputs": [],
   "source": []
  }
 ],
 "metadata": {
  "kernelspec": {
   "display_name": "Python 3",
   "language": "python",
   "name": "python3"
  },
  "language_info": {
   "codemirror_mode": {
    "name": "ipython",
    "version": 3
   },
   "file_extension": ".py",
   "mimetype": "text/x-python",
   "name": "python",
   "nbconvert_exporter": "python",
   "pygments_lexer": "ipython3",
   "version": "3.6.8"
  }
 },
 "nbformat": 4,
 "nbformat_minor": 2
}
