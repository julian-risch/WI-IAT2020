{
 "cells": [
  {
   "cell_type": "code",
   "execution_count": 1,
   "metadata": {},
   "outputs": [],
   "source": [
    "from dask.distributed import Client, progress\n",
    "client = Client(n_workers=1, threads_per_worker=4, memory_limit='4GB')"
   ]
  },
  {
   "cell_type": "code",
   "execution_count": 2,
   "metadata": {
    "scrolled": true
   },
   "outputs": [
    {
     "data": {
      "text/html": [
       "<table style=\"border: 2px solid white;\">\n",
       "<tr>\n",
       "<td style=\"vertical-align: top; border: 0px solid white\">\n",
       "<h3>Client</h3>\n",
       "<ul>\n",
       "  <li><b>Scheduler: </b>tcp://127.0.0.1:37471\n",
       "  <li><b>Dashboard: </b><a href='http://127.0.0.1:8787/status' target='_blank'>http://127.0.0.1:8787/status</a>\n",
       "</ul>\n",
       "</td>\n",
       "<td style=\"vertical-align: top; border: 0px solid white\">\n",
       "<h3>Cluster</h3>\n",
       "<ul>\n",
       "  <li><b>Workers: </b>1</li>\n",
       "  <li><b>Cores: </b>4</li>\n",
       "  <li><b>Memory: </b>4.00 GB</li>\n",
       "</ul>\n",
       "</td>\n",
       "</tr>\n",
       "</table>"
      ],
      "text/plain": [
       "<Client: scheduler='tcp://127.0.0.1:37471' processes=1 cores=4>"
      ]
     },
     "execution_count": 2,
     "metadata": {},
     "output_type": "execute_result"
    }
   ],
   "source": [
    "client"
   ]
  },
  {
   "cell_type": "code",
   "execution_count": 3,
   "metadata": {},
   "outputs": [],
   "source": [
    "import dask.dataframe as dd"
   ]
  },
  {
   "cell_type": "code",
   "execution_count": 4,
   "metadata": {},
   "outputs": [],
   "source": [
    "comments_meta_path = '/mnt/data/datasets/ydata-ynacc-v1_0/ydata-ynacc-v1_0_unlabeled_conversations.tsv'"
   ]
  },
  {
   "cell_type": "code",
   "execution_count": 13,
   "metadata": {},
   "outputs": [],
   "source": [
    "df = dd.read_csv(comments_meta_path, sep='\\t', header=0, lineterminator='\\n')"
   ]
  },
  {
   "cell_type": "code",
   "execution_count": 14,
   "metadata": {
    "scrolled": true
   },
   "outputs": [
    {
     "data": {
      "text/html": [
       "<div>\n",
       "<style scoped>\n",
       "    .dataframe tbody tr th:only-of-type {\n",
       "        vertical-align: middle;\n",
       "    }\n",
       "\n",
       "    .dataframe tbody tr th {\n",
       "        vertical-align: top;\n",
       "    }\n",
       "\n",
       "    .dataframe thead th {\n",
       "        text-align: right;\n",
       "    }\n",
       "</style>\n",
       "<table border=\"1\" class=\"dataframe\">\n",
       "  <thead>\n",
       "    <tr style=\"text-align: right;\">\n",
       "      <th></th>\n",
       "      <th>sdid</th>\n",
       "      <th>commentindex</th>\n",
       "      <th>headline</th>\n",
       "      <th>url</th>\n",
       "      <th>guid</th>\n",
       "      <th>commentid</th>\n",
       "      <th>timestamp</th>\n",
       "      <th>thumbs-up</th>\n",
       "      <th>thumbs-down</th>\n",
       "      <th>text</th>\n",
       "      <th>parentid</th>\n",
       "    </tr>\n",
       "  </thead>\n",
       "  <tbody>\n",
       "    <tr>\n",
       "      <th>0</th>\n",
       "      <td>129908</td>\n",
       "      <td>0</td>\n",
       "      <td>Stana Katic Out at 'Castle' as Part of Season ...</td>\n",
       "      <td>https://tvline.com/2016/04/18/stana-katic-leav...</td>\n",
       "      <td>OvVPMSRmSYCVhryYrhRj</td>\n",
       "      <td>1461008271435-3836a3e7-6f93-4385-8386-686761d6...</td>\n",
       "      <td>1461008271</td>\n",
       "      <td>44</td>\n",
       "      <td>0</td>\n",
       "      <td>They are taking all the great shows off or end...</td>\n",
       "      <td>NaN</td>\n",
       "    </tr>\n",
       "    <tr>\n",
       "      <th>1</th>\n",
       "      <td>129908</td>\n",
       "      <td>1</td>\n",
       "      <td>Stana Katic Out at 'Castle' as Part of Season ...</td>\n",
       "      <td>https://tvline.com/2016/04/18/stana-katic-leav...</td>\n",
       "      <td>LKaND3iPvrz7ISWIR0pK</td>\n",
       "      <td>00002g000000000000000000000000-a1b3b015-db5b-4...</td>\n",
       "      <td>1461019666</td>\n",
       "      <td>0</td>\n",
       "      <td>0</td>\n",
       "      <td>The prior seasons are in reruns, so you can st...</td>\n",
       "      <td>1461008271435-3836a3e7-6f93-4385-8386-686761d6...</td>\n",
       "    </tr>\n",
       "    <tr>\n",
       "      <th>2</th>\n",
       "      <td>129908</td>\n",
       "      <td>2</td>\n",
       "      <td>Stana Katic Out at 'Castle' as Part of Season ...</td>\n",
       "      <td>https://tvline.com/2016/04/18/stana-katic-leav...</td>\n",
       "      <td>auP242ond1glYjOtoeKr</td>\n",
       "      <td>00003g000000000000000000000000-e57e0b92-87ec-4...</td>\n",
       "      <td>1461030678</td>\n",
       "      <td>5</td>\n",
       "      <td>1</td>\n",
       "      <td>They are thinking that it is much cheaper to p...</td>\n",
       "      <td>1461008271435-3836a3e7-6f93-4385-8386-686761d6...</td>\n",
       "    </tr>\n",
       "  </tbody>\n",
       "</table>\n",
       "</div>"
      ],
      "text/plain": [
       "     sdid  commentindex                                           headline  \\\n",
       "0  129908             0  Stana Katic Out at 'Castle' as Part of Season ...   \n",
       "1  129908             1  Stana Katic Out at 'Castle' as Part of Season ...   \n",
       "2  129908             2  Stana Katic Out at 'Castle' as Part of Season ...   \n",
       "\n",
       "                                                 url                  guid  \\\n",
       "0  https://tvline.com/2016/04/18/stana-katic-leav...  OvVPMSRmSYCVhryYrhRj   \n",
       "1  https://tvline.com/2016/04/18/stana-katic-leav...  LKaND3iPvrz7ISWIR0pK   \n",
       "2  https://tvline.com/2016/04/18/stana-katic-leav...  auP242ond1glYjOtoeKr   \n",
       "\n",
       "                                           commentid   timestamp  thumbs-up  \\\n",
       "0  1461008271435-3836a3e7-6f93-4385-8386-686761d6...  1461008271         44   \n",
       "1  00002g000000000000000000000000-a1b3b015-db5b-4...  1461019666          0   \n",
       "2  00003g000000000000000000000000-e57e0b92-87ec-4...  1461030678          5   \n",
       "\n",
       "   thumbs-down                                               text  \\\n",
       "0            0  They are taking all the great shows off or end...   \n",
       "1            0  The prior seasons are in reruns, so you can st...   \n",
       "2            1  They are thinking that it is much cheaper to p...   \n",
       "\n",
       "                                            parentid  \n",
       "0                                                NaN  \n",
       "1  1461008271435-3836a3e7-6f93-4385-8386-686761d6...  \n",
       "2  1461008271435-3836a3e7-6f93-4385-8386-686761d6...  "
      ]
     },
     "execution_count": 14,
     "metadata": {},
     "output_type": "execute_result"
    }
   ],
   "source": [
    "df.head(3)"
   ]
  },
  {
   "cell_type": "code",
   "execution_count": 15,
   "metadata": {},
   "outputs": [],
   "source": [
    "result = df.groupby(['guid'])['commentid'].count()"
   ]
  },
  {
   "cell_type": "code",
   "execution_count": 16,
   "metadata": {},
   "outputs": [],
   "source": [
    "computed_df = result.compute()"
   ]
  },
  {
   "cell_type": "code",
   "execution_count": 17,
   "metadata": {},
   "outputs": [
    {
     "data": {
      "text/plain": [
       "72471"
      ]
     },
     "execution_count": 17,
     "metadata": {},
     "output_type": "execute_result"
    }
   ],
   "source": [
    "computed_df.size"
   ]
  },
  {
   "cell_type": "code",
   "execution_count": 18,
   "metadata": {},
   "outputs": [],
   "source": [
    "computed_df.to_frame().to_csv('./data/ynacc_user_comments.csv')"
   ]
  },
  {
   "cell_type": "code",
   "execution_count": 19,
   "metadata": {},
   "outputs": [
    {
     "data": {
      "text/plain": [
       "guid\n",
       "00BAPi2fjuOqa_CeqOI4     1\n",
       "00EtzGgZFn_7cj0_Lbc7     2\n",
       "00FPPYHTRHUXbieHYN0L     1\n",
       "00IHq0PUASWaBoiBpsPY     1\n",
       "00TMnzG0xDqxwGi_14rp     5\n",
       "00UmQzsExlFuA43KLfdn     1\n",
       "00eJTUk26BxxhxM1z2y4     2\n",
       "00gI9_LBRMb~PGbyNm2r     3\n",
       "00oecvhuAglEdkV4CO56     1\n",
       "011_p8EgH1pV~ynXEU~L     6\n",
       "013~MNC4sHeBhlMqknlD     1\n",
       "015ZeN28iJJA1Fz3t2SK     2\n",
       "017mP70m0rZBAAmfB789     3\n",
       "019KOPezZkiAQZYWa9ky     1\n",
       "01JbhPBjlzcxnUHT2S~Z     2\n",
       "01K5hZjfjnDy258f0jZP     1\n",
       "01LM6gLF8l3PF0gBUdfC     2\n",
       "01e27y2YGztZC4CHFNJK     2\n",
       "01kD2G~JU2pXQVTO_dOU    10\n",
       "01q_W5nysBRI24y_C8md    22\n",
       "01~x2MaR7s6gHqbcTsTH     1\n",
       "027WHRsAonuPTGEdtGZU     1\n",
       "027XL~~IUnCeAGiw0d13     1\n",
       "02C0Ctx1n7ktqxNspypF     1\n",
       "02GrXG9A4aBWy4ZQ0sVv     2\n",
       "02c1xqkpr7AU4gAValXl     5\n",
       "02erf5_p92sdr1NeGE86    12\n",
       "02jWoPI_I9eL5vEGlOed     2\n",
       "02uaN0BVMXKmRPZTVuvr     1\n",
       "03Bo~fmS5rS_9GZnz~tq    67\n",
       "                        ..\n",
       "~wYuLWapUKEmEMMVilfb     1\n",
       "~wZGbT7zKDYMfDIem7EY     1\n",
       "~wadJ5pm_IKn6ps5G5Is     1\n",
       "~wgyfKaK5dypQTYqWZjD     1\n",
       "~wq_qRKecWa4r6mfAXq9     1\n",
       "~wt3nRYNMOsdZJD9s0Sk     3\n",
       "~x3iQUiXqwy2OosrQ5Oc     1\n",
       "~x8vnQHV~~g1sWHSIml5     1\n",
       "~xDCQ3fY5YjZeKUVf8o8     1\n",
       "~xLNczwcv4GXpjhBom~4     1\n",
       "~xR__IGVayqciAX8YQWF     1\n",
       "~xeH8lhR4AK62qMm1f3X     1\n",
       "~xhuz3f3JgLTOrH9~i9j     2\n",
       "~xkkIZ0meSU7FTOPZj0k     1\n",
       "~xqqWx~_QBfjnsa3c8JU     1\n",
       "~xsyn9LgcwbWcmj1co9p     2\n",
       "~xueaM_LJD4paowR35Zd     4\n",
       "~xzb_rexk0~9shpTiy3c     1\n",
       "~y4anYA2cj6ac4xvGjwC     1\n",
       "~yMQynqg5eD9KLMBxeZn     1\n",
       "~yQXQxdOwClmEP8l_t1B     1\n",
       "~yw1APOtylADIQlqsr5Y     2\n",
       "~zYD5T~AjPGisUq_TnLN     1\n",
       "~zYmlRKA7kN9t~y8PxQ4     1\n",
       "~~2R~fj2Qo93NgBmuKCm     1\n",
       "~~IT5oN6g60hwnsZE838     1\n",
       "~~Tbwoe2wyxVt4egr4Ct     1\n",
       "~~vK6vl_VPqIjCZ644io     1\n",
       "~~yJ9Ct~sx3sss2n28AS     2\n",
       "~~~1oKgDZ7s1_TxR72ZT     1\n",
       "Name: commentid, Length: 72471, dtype: int64"
      ]
     },
     "execution_count": 19,
     "metadata": {},
     "output_type": "execute_result"
    }
   ],
   "source": [
    "computed_df"
   ]
  },
  {
   "cell_type": "code",
   "execution_count": null,
   "metadata": {},
   "outputs": [],
   "source": [
    "df['']"
   ]
  }
 ],
 "metadata": {
  "kernelspec": {
   "display_name": "Python 3",
   "language": "python",
   "name": "python3"
  },
  "language_info": {
   "codemirror_mode": {
    "name": "ipython",
    "version": 3
   },
   "file_extension": ".py",
   "mimetype": "text/x-python",
   "name": "python",
   "nbconvert_exporter": "python",
   "pygments_lexer": "ipython3",
   "version": "3.6.8"
  }
 },
 "nbformat": 4,
 "nbformat_minor": 2
}
