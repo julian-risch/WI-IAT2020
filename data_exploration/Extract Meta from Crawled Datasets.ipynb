{
 "cells": [
  {
   "cell_type": "code",
   "execution_count": null,
   "metadata": {},
   "outputs": [],
   "source": [
    "import pandas as pd"
   ]
  },
  {
   "cell_type": "code",
   "execution_count": null,
   "metadata": {},
   "outputs": [],
   "source": [
    "comments_path = '/mnt/data/datasets/newspapers/daily-mail/c_comments.csv'"
   ]
  },
  {
   "cell_type": "code",
   "execution_count": null,
   "metadata": {},
   "outputs": [],
   "source": [
    "to_write_path = '/mnt/data/datasets/newspapers/daily-mail/meta/c_comments.csv'\n"
   ]
  },
  {
   "cell_type": "code",
   "execution_count": null,
   "metadata": {},
   "outputs": [],
   "source": [
    "columns= ['article_id', 'author_id', 'comment_id', 'timestamp', 'parent_comment_id', 'upvotes']"
   ]
  },
  {
   "cell_type": "code",
   "execution_count": null,
   "metadata": {},
   "outputs": [],
   "source": [
    "# write header\n",
    "with open(to_write_path, 'a') as f:\n",
    "    f.write(','.join(columns) + '\\n')"
   ]
  },
  {
   "cell_type": "code",
   "execution_count": null,
   "metadata": {},
   "outputs": [],
   "source": [
    "n = 1\n",
    "for chunk_df in pd.read_csv(comments_path, chunksize=300):\n",
    "    df = chunk_df[['article_id', 'comment_author_id', 'comment_id', 'timestamp', 'parent_comment_id', 'upvotes']]\n",
    "    df.to_csv(to_write_path, mode='a', header=False, index=False)\n",
    "    if n % 20 == 0:\n",
    "        print('-' * 10)\n",
    "        print(f'Chunk {n} finished')\n",
    "    n +=1\n",
    "    "
   ]
  },
  {
   "cell_type": "code",
   "execution_count": null,
   "metadata": {},
   "outputs": [],
   "source": []
  }
 ],
 "metadata": {
  "kernelspec": {
   "display_name": "Python 3",
   "language": "python",
   "name": "python3"
  },
  "language_info": {
   "codemirror_mode": {
    "name": "ipython",
    "version": 3
   },
   "file_extension": ".py",
   "mimetype": "text/x-python",
   "name": "python",
   "nbconvert_exporter": "python",
   "pygments_lexer": "ipython3",
   "version": "3.6.8"
  }
 },
 "nbformat": 4,
 "nbformat_minor": 2
}
