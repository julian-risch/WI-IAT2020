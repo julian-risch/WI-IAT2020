{
  "cells": [
    {
      "cell_type": "code",
      "execution_count": null,
      "metadata": {
        "pycharm": {}
      },
      "outputs": [],
      "source": "# %%\nimport networkx as nx\nimport pandas as pd\nimport matplotlib.pyplot as plt\nimport seaborn as sns\n\n# %%\nroot_path \u003d \u0027\u0027\nuser_category_most_path \u003d \u0027\u0027\ntrain_set_path \u003d \u0027\u0027\nauhtor_out_path \u003d \u0027\u0027\ngraphml_out \u003d \u0027\u0027\ngraphedge_out \u003d \u0027\u0027\n\n"
    },
    {
      "cell_type": "code",
      "execution_count": null,
      "metadata": {
        "pycharm": {}
      },
      "outputs": [],
      "source": "df \u003d pd.read_csv(train_set_path)\n\ndf_user_max \u003d pd.read_csv(user_category_most_path)"
    },
    {
      "cell_type": "code",
      "execution_count": null,
      "metadata": {
        "pycharm": {}
      },
      "outputs": [],
      "source": "df.groupby(\u0027author_id\u0027)[\u0027comment_id\u0027].count().reset_index()[\u0027comment_id\u0027].quantile([0.90])"
    },
    {
      "cell_type": "code",
      "execution_count": null,
      "metadata": {
        "pycharm": {}
      },
      "outputs": [],
      "source": "df \u003d pd.read_csv(train_set_path)\n"
    },
    {
      "cell_type": "code",
      "execution_count": null,
      "metadata": {
        "pycharm": {}
      },
      "outputs": [],
      "source": [
        "print(\u0027Number of Comments\u0027, df_in[\u0027comment_id\u0027].nunique())"
      ]
    },
    {
      "cell_type": "code",
      "execution_count": null,
      "metadata": {
        "pycharm": {}
      },
      "outputs": [],
      "source": [
        "df \u003d df[df[\u0027comment_id\u0027].isin(comments)]"
      ]
    },
    {
      "cell_type": "code",
      "execution_count": null,
      "metadata": {
        "pycharm": {}
      },
      "outputs": [],
      "source": [
        "print(\u0027Number of Comments\u0027, df[\u0027comment_id\u0027].nunique())"
      ]
    },
    {
      "cell_type": "code",
      "execution_count": null,
      "metadata": {
        "pycharm": {}
      },
      "outputs": [],
      "source": "authors \u003d first_ten_comments.rename({\u0027author_id\u0027: \u0027author\u0027}, axis\u003d\u0027columns\u0027).reset_index()\nauthors.to_csv(auhtor_out_path, index\u003dFalse)"
    },
    {
      "cell_type": "code",
      "execution_count": null,
      "metadata": {
        "pycharm": {}
      },
      "outputs": [],
      "source": [
        "df \u003d df[[\u0027article_id\u0027, \u0027author_id\u0027, \u0027comment_id\u0027]]"
      ]
    },
    {
      "cell_type": "code",
      "execution_count": null,
      "metadata": {
        "pycharm": {}
      },
      "outputs": [],
      "source": [
        "article_author_list_df \u003d df.groupby(\u0027article_id\u0027)[\u0027author_id\u0027].apply(lambda x: list(set(x)))"
      ]
    },
    {
      "cell_type": "code",
      "execution_count": null,
      "metadata": {
        "pycharm": {}
      },
      "outputs": [],
      "source": [
        "article_author_list_df \u003d article_author_list_df.reset_index()\n"
      ]
    },
    {
      "cell_type": "code",
      "execution_count": null,
      "metadata": {
        "pycharm": {}
      },
      "outputs": [],
      "source": [
        "df_user_max.index \u003d df_user_max[\u0027author_id\u0027]"
      ]
    },
    {
      "cell_type": "code",
      "execution_count": null,
      "metadata": {
        "pycharm": {}
      },
      "outputs": [],
      "source": [
        "unique_users \u003d df[\u0027author_id\u0027].unique()\n",
        "unique_articles \u003d df[\u0027article_id\u0027].unique()\n",
        "\n",
        "unique_articles \u003d [int(article) + 100000000 for article in unique_articles]"
      ]
    },
    {
      "cell_type": "code",
      "execution_count": null,
      "metadata": {
        "pycharm": {}
      },
      "outputs": [],
      "source": [
        "G \u003d nx.Graph()"
      ]
    },
    {
      "cell_type": "code",
      "execution_count": null,
      "metadata": {
        "pycharm": {}
      },
      "outputs": [],
      "source": [
        "G.add_nodes_from(df[\u0027author_id\u0027].unique())"
      ]
    },
    {
      "cell_type": "code",
      "execution_count": null,
      "metadata": {
        "pycharm": {}
      },
      "outputs": [],
      "source": [
        "nx.set_node_attributes(G, df_user_max[[\u0027category\u0027]].to_dict()[\u0027category\u0027], \u0027category\u0027)"
      ]
    },
    {
      "cell_type": "code",
      "execution_count": null,
      "metadata": {
        "pycharm": {}
      },
      "outputs": [],
      "source": [
        "G.add_nodes_from(unique_articles, type\u003d\"\u0027article\u0027\")"
      ]
    },
    {
      "cell_type": "code",
      "execution_count": null,
      "metadata": {
        "pycharm": {}
      },
      "outputs": [],
      "source": [
        "#%%\n",
        "for index, comment in df.iterrows():\n",
        "    G.add_edge(comment[\u0027author_id\u0027],  100000000 + int(comment[\u0027article_id\u0027]))"
      ]
    },
    {
      "cell_type": "code",
      "execution_count": null,
      "metadata": {
        "pycharm": {}
      },
      "outputs": [],
      "source": [
        "print(nx.info(G))"
      ]
    },
    {
      "cell_type": "code",
      "execution_count": null,
      "metadata": {
        "pycharm": {}
      },
      "outputs": [],
      "source": [
        "nx.write_graphml(\n",
        "    G, root_path + \"/graph/graph_last22comments_update.graphml\")"
      ]
    },
    {
      "cell_type": "code",
      "execution_count": null,
      "metadata": {
        "pycharm": {}
      },
      "outputs": [],
      "source": [
        "nx.write_edgelist(G, root_path + \u0027/graph/graph_last22comments_update.edgelist\u0027)"
      ]
    },
    {
      "cell_type": "code",
      "execution_count": null,
      "metadata": {
        "pycharm": {}
      },
      "outputs": [],
      "source": [
        "df[\u0027author_id\u0027].dtype"
      ]
    },
    {
      "cell_type": "code",
      "execution_count": null,
      "metadata": {
        "pycharm": {}
      },
      "outputs": [],
      "source": []
    }
  ],
  "metadata": {
    "kernelspec": {
      "display_name": "Python 3",
      "language": "python",
      "name": "python3"
    },
    "language_info": {
      "codemirror_mode": {
        "name": "ipython",
        "version": 3
      },
      "file_extension": ".py",
      "mimetype": "text/x-python",
      "name": "python",
      "nbconvert_exporter": "python",
      "pygments_lexer": "ipython3",
      "version": "3.6.9"
    }
  },
  "nbformat": 4,
  "nbformat_minor": 4
}