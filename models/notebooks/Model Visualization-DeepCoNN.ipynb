{
 "cells": [
  {
   "cell_type": "code",
   "execution_count": null,
   "metadata": {},
   "outputs": [],
   "source": [
    "import torch"
   ]
  },
  {
   "cell_type": "code",
   "execution_count": null,
   "metadata": {},
   "outputs": [],
   "source": [
    "import sys\n",
    "sys.path.append('../')"
   ]
  },
  {
   "cell_type": "code",
   "execution_count": null,
   "metadata": {},
   "outputs": [],
   "source": [
    "from src.model.pointwise.model import HomophilyContentCNN"
   ]
  },
  {
   "cell_type": "code",
   "execution_count": null,
   "metadata": {},
   "outputs": [],
   "source": [
    "import hiddenlayer as hl\n",
    "import tensorwatch as tw"
   ]
  },
  {
   "cell_type": "code",
   "execution_count": null,
   "metadata": {},
   "outputs": [],
   "source": [
    "import numpy as np"
   ]
  },
  {
   "cell_type": "code",
   "execution_count": null,
   "metadata": {},
   "outputs": [],
   "source": [
    "from src.constants import MAX_LENGTH_USER_REPRESENATION, MAX_LENGTH_COMMENT_SECTION\n",
    "from src.model.pointwise.model import HomophilyContentCNN\n",
    "from src.utils.utils import create_node2vec_embedding_layer, save_config\n",
    "from src.dataloader.pointwise.utils import get_data_loader"
   ]
  },
  {
   "cell_type": "code",
   "execution_count": null,
   "metadata": {},
   "outputs": [],
   "source": [
    "user_embedding_path = ''"
   ]
  },
  {
   "cell_type": "code",
   "execution_count": null,
   "metadata": {},
   "outputs": [],
   "source": [
    "dropout=0.5\n",
    "user_num_kernels=50\n",
    "# number of kernels\n",
    "section_num_kernels=50\n",
    "user_kernel_size=5  # number of words in window\n",
    "section_kernel_size=5\n",
    "user_latent_factors=50  # embedding size\n",
    "section_latent_factors=50\n",
    "freeze_embeddings=False"
   ]
  },
  {
   "cell_type": "code",
   "execution_count": null,
   "metadata": {},
   "outputs": [],
   "source": [
    "NODE2VEC_EMB_DIM, num_authors, node2vec_emb_layer, author_to_pos_dict = create_node2vec_embedding_layer(\n",
    "        user_embedding_path, True)\n",
    "\n"
   ]
  },
  {
   "cell_type": "code",
   "execution_count": null,
   "metadata": {},
   "outputs": [],
   "source": [
    "model = DeepCoNN(\n",
    "            MAX_LENGTH_USER_REPRESENATION,\n",
    "            MAX_LENGTH_COMMENT_SECTION,\n",
    "            dropout=dropout,\n",
    "            user_num_kernels=user_num_kernels,\n",
    "            # number of kernels\n",
    "            section_num_kernels=section_num_kernels,\n",
    "            user_kernel_size=user_kernel_size,  # number of words in window\n",
    "            section_kernel_size=section_kernel_size,\n",
    "            user_latent_factors1=user_latent_factors,  # embedding size\n",
    "            section_latent_factors1=section_latent_factors,\n",
    "            freeze_embeddings=freeze_embeddings\n",
    ")"
   ]
  },
  {
   "cell_type": "code",
   "execution_count": null,
   "metadata": {},
   "outputs": [],
   "source": [
    "train_loader, _ = get_data_loader(num_authors, author_to_pos_dict, 1, True, 2,\n",
    "                                               None)"
   ]
  },
  {
   "cell_type": "code",
   "execution_count": null,
   "metadata": {},
   "outputs": [],
   "source": [
    "input_batch = next(iter(train_loader))"
   ]
  },
  {
   "cell_type": "code",
   "execution_count": null,
   "metadata": {},
   "outputs": [],
   "source": [
    "from train_deepconn import transform_fn"
   ]
  },
  {
   "cell_type": "code",
   "execution_count": null,
   "metadata": {},
   "outputs": [],
   "source": [
    "transforms = [\n",
    "    # Fold Conv, BN, RELU layers into one\n",
    "    hl.transforms.Fold(\"Gather > Cast\", \"Lookup\", \"Lookup Word\"),\n",
    "    hl.transforms.Prune(\"Constant\"),\n",
    "    hl.transforms.Fold(\"Squeeze > Gather\", 'step1'),\n",
    "    hl.transforms.Fold(\"step1 > ATen > Cast\", 'Look', \"Lookup User\"),\n",
    "    hl.transforms.Prune(\"step1\"),\n",
    "    hl.transforms.Fold(\"Sigmoid > Squeeze\", 'out', 'Sigmoid'),\n",
    "    hl.transforms.Fold(\"Conv > Relu > Squeeze\", 'Convolution', 'Convolution'),\n",
    "    hl.transforms.Fold(\"MaxPool > Squeeze\", \"Max-pooling\", 'Max-pooling'),\n",
    "    hl.transforms.Fold(\"Linear > Relu > Dropout\", 'linear'),\n",
    "    # Fold repeated blocks\n",
    "    hl.transforms.FoldDuplicates(),\n",
    "]"
   ]
  },
  {
   "cell_type": "code",
   "execution_count": null,
   "metadata": {},
   "outputs": [],
   "source": [
    "model.cuda()"
   ]
  },
  {
   "cell_type": "code",
   "execution_count": null,
   "metadata": {},
   "outputs": [],
   "source": [
    "graph = hl.build_graph(model, transform_fn(input_batch)[0], transforms=transforms)"
   ]
  },
  {
   "cell_type": "code",
   "execution_count": null,
   "metadata": {},
   "outputs": [],
   "source": [
    "graph"
   ]
  },
  {
   "cell_type": "code",
   "execution_count": null,
   "metadata": {},
   "outputs": [],
   "source": [
    "graph.format = 'pdf'"
   ]
  },
  {
   "cell_type": "code",
   "execution_count": null,
   "metadata": {},
   "outputs": [],
   "source": [
    "graph.save('visualizations/deepconn.pdf')"
   ]
  },
  {
   "cell_type": "code",
   "execution_count": null,
   "metadata": {},
   "outputs": [],
   "source": []
  }
 ],
 "metadata": {
  "kernelspec": {
   "display_name": "Python 3",
   "language": "python",
   "name": "python3"
  },
  "language_info": {
   "codemirror_mode": {
    "name": "ipython",
    "version": 3
   },
   "file_extension": ".py",
   "mimetype": "text/x-python",
   "name": "python",
   "nbconvert_exporter": "python",
   "pygments_lexer": "ipython3",
   "version": "3.6.9"
  }
 },
 "nbformat": 4,
 "nbformat_minor": 4
}
