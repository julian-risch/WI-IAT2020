{
 "cells": [
  {
   "cell_type": "code",
   "execution_count": null,
   "metadata": {},
   "outputs": [],
   "source": [
    "import torch\n",
    "import numpy as np\n",
    "from torch import nn"
   ]
  },
  {
   "cell_type": "code",
   "execution_count": null,
   "metadata": {},
   "outputs": [],
   "source": [
    "keyed_vector_path = ''"
   ]
  },
  {
   "cell_type": "code",
   "execution_count": null,
   "metadata": {},
   "outputs": [],
   "source": [
    "def create_node2vec_embedding_layer(freeze_weights):\n",
    "    model = gensim.models.KeyedVectors.load_word2vec_format(keyed_vector_path)    \n",
    "    \n",
    "    num_authors = len(model.vocab)\n",
    "    EMBEDDING_DIM = model.vector_size\n",
    "    embedding_matrix = np.zeros((num_authors, EMBEDDING_DIM))\n",
    "    \n",
    "    embeddings = np.zeros((len(model.vocab), model.vector_size))\n",
    "    author_to_pos_dict = {}\n",
    "    for i, word in enumerate(model.vocab):\n",
    "        vector = model[word]\n",
    "        embeddings[i] = vector\n",
    "\n",
    "        author_id = int(word)\n",
    "        author_to_pos_dict[author_id] = i\n",
    "        \n",
    "    embedding_matrix = torch.from_numpy(embedding_matrix)\n",
    "    \n",
    "    emb_layer = nn.Embedding(num_authors, EMBEDDING_DIM)\n",
    "    emb_layer.weight = nn.Parameter(embedding_matrix)\n",
    "    if freeze_weights:\n",
    "        emb_layer.weight.requires_grad = False\n",
    "    return EMBEDDING_DIM, num_authors, emb_layer, author_to_pos_dict"
   ]
  },
  {
   "cell_type": "code",
   "execution_count": null,
   "metadata": {},
   "outputs": [],
   "source": [
    "EMBEDDING_DIM, num_authors, emb_layer, word_to_pos_dict = create_node2vec_embedding_layer(True)"
   ]
  },
  {
   "cell_type": "code",
   "execution_count": null,
   "metadata": {},
   "outputs": [],
   "source": [
    "word_to_pos_dict[1012098]"
   ]
  },
  {
   "cell_type": "code",
   "execution_count": null,
   "metadata": {},
   "outputs": [],
   "source": []
  }
 ],
 "metadata": {
  "kernelspec": {
   "display_name": "Python 3",
   "language": "python",
   "name": "python3"
  },
  "language_info": {
   "codemirror_mode": {
    "name": "ipython",
    "version": 3
   },
   "file_extension": ".py",
   "mimetype": "text/x-python",
   "name": "python",
   "nbconvert_exporter": "python",
   "pygments_lexer": "ipython3",
   "version": "3.6.9"
  }
 },
 "nbformat": 4,
 "nbformat_minor": 4
}
